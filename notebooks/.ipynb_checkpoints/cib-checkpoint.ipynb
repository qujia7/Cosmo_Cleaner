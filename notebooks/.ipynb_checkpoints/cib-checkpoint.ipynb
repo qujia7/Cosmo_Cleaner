{
 "cells": [
  {
   "cell_type": "code",
   "execution_count": 1,
   "metadata": {},
   "outputs": [],
   "source": [
    "from orphics import cosmology"
   ]
  },
  {
   "cell_type": "code",
   "execution_count": 3,
   "metadata": {},
   "outputs": [],
   "source": [
    "import numpy as np\n",
    "from orphics import maps, cosmology,io,stats\n",
    "from scipy import optimize\n",
    "import cosmo_cleaner\n",
    "import matplotlib.pyplot as plt\n",
    "import matplotlib.font_manager as font_manager\n",
    "from matplotlib.collections import LineCollection\n",
    "from matplotlib.colors import ListedColormap, BoundaryNorm\n",
    "#from IPython.display import set_matplotlib_formats set_matplotlib_formats('retina')\n",
    "csfont = {'fontname':'Latin Modern Roman'}\n",
    "font = font_manager.FontProperties(family='Latin Modern Roman',style='normal', size = 8)"
   ]
  },
  {
   "cell_type": "code",
   "execution_count": 600,
   "metadata": {},
   "outputs": [],
   "source": [
    "from cosmo_cleaner import fisher\n"
   ]
  },
  {
   "cell_type": "code",
   "execution_count": 750,
   "metadata": {},
   "outputs": [
    {
     "name": "stdout",
     "output_type": "stream",
     "text": [
      "Generating theory Cls...\n",
      "initializing power...\n",
      "Initializing CMB window..\n"
     ]
    }
   ],
   "source": [
    "lc=cosmology.LimberCosmology(lmax=2000,pickling=True)"
   ]
  },
  {
   "cell_type": "code",
   "execution_count": 751,
   "metadata": {},
   "outputs": [],
   "source": [
    "defaultCosmology = {'omch2': 0.1198\n",
    "                    ,'ombh2': 0.02225\n",
    "                    ,'H0': 67.3\n",
    "                    ,'ns': 0.9645\n",
    "                    ,'As': 2.2e-9\n",
    "                    ,'mnu': 0.06\n",
    "                    ,'w0': -1.0\n",
    "                    ,'tau':0.06\n",
    "                    ,'nnu':3.046\n",
    "                    ,'wa': 0.\n",
    "}"
   ]
  },
  {
   "cell_type": "code",
   "execution_count": 752,
   "metadata": {},
   "outputs": [],
   "source": [
    "import camb\n",
    "pars = camb.CAMBparams()\n",
    "pars.set_dark_energy(w=defaultCosmology['w0'],wa = defaultCosmology['wa'], dark_energy_model = 'ppf')\n",
    "pars.set_cosmology(H0=defaultCosmology['H0'], cosmomc_theta = None,ombh2=defaultCosmology['ombh2'], \n",
    "               omch2=defaultCosmology['omch2'], mnu=defaultCosmology['mnu'], tau = defaultCosmology['tau'],\n",
    "               nnu = defaultCosmology['nnu'], num_massive_neutrinos = 3)\n",
    "#pars.NonLinear = model.NonLinear_both\n",
    "pars.InitPower.set_params(ns=defaultCosmology['ns'],As=defaultCosmology['As'])\n",
    "\n",
    "results = camb.get_results(pars)\n",
    "\n",
    "    "
   ]
  },
  {
   "cell_type": "code",
   "execution_count": 753,
   "metadata": {},
   "outputs": [],
   "source": [
    "nz = 1000\n",
    "kmax = 10\n",
    "zmin = 0.\n",
    "chistar = results.conformal_time(0)- results.tau_maxvis\n",
    "chis = np.linspace(0,chistar,nz)\n",
    "zs=results.redshift_at_comoving_radial_distance(chis)\n",
    "\n",
    "dchis = (chis[2:]-chis[:-2])/2\n",
    "chis = chis[1:-1]\n",
    "zs = zs[1:-1]\n",
    "Hzs = np.array([results.hubble_parameter(z) for z in zs])\n",
    "pars.Transfer.accurate_massive_neutrinos = True    \n",
    "\n",
    "PK = camb.get_matter_power_interpolator(pars, nonlinear=True, \n",
    "hubble_units=False, k_hunit=False, kmax=kmax,\n",
    "var1='delta_nonu',var2='delta_nonu', zmax=zs[-1])"
   ]
  },
  {
   "cell_type": "code",
   "execution_count": 754,
   "metadata": {},
   "outputs": [
    {
     "name": "stderr",
     "output_type": "stream",
     "text": [
      "/global/homes/j/jia_qu/.conda/envs/myenv/lib/python3.7/site-packages/ipykernel_launcher.py:11: RuntimeWarning: divide by zero encountered in true_divide\n",
      "  # This is added back by InteractiveShellApp.init_path()\n"
     ]
    }
   ],
   "source": [
    "ells=np.arange(2000)\n",
    "\n",
    "cSpeedKmPerSec = 299792.458\n",
    "omnuh2 = pars.omnuh2\n",
    "\n",
    "#lensing window\n",
    "lensingwindow = 1.5*(defaultCosmology['omch2']+defaultCosmology['ombh2']+omnuh2)*100.*100.*(1.+zs)*chis*((chistar - chis)/chistar)/Hzs/cSpeedKmPerSec\n",
    "\n",
    "#Phi_window\n",
    "L=np.arange(len(lensingwindow))\n",
    "lensingphi=lensingwindow*2/L**2\n",
    "\n"
   ]
  },
  {
   "cell_type": "code",
   "execution_count": 755,
   "metadata": {},
   "outputs": [],
   "source": [
    "w = np.ones(chis.shape)\n",
    "wg = np.ones(chis.shape)\n",
    "wk = np.ones(chis.shape)\n",
    "\n",
    "precalcFactor= Hzs**2./chis/chis/cSpeedKmPerSec**2.\n"
   ]
  },
  {
   "cell_type": "code",
   "execution_count": 756,
   "metadata": {},
   "outputs": [],
   "source": [
    "clkk = []\n",
    "\n",
    "for l in ells:\n",
    "    k=(l+0.5)/chis\n",
    "    wk[:]=1\n",
    "    wk[k<1e-4]=0\n",
    "    wk[k>=kmax]=0\n",
    "    pkin = PK.P(zs, k, grid=False)\n",
    "    common = ((wk*pkin)*precalcFactor)[zs>=zmin]        \n",
    "    estCl = np.dot(dchis[zs>=zmin], common*(lensingwindow*lensingwindow)[zs>=zmin])\n",
    "    clkk.append(estCl)"
   ]
  },
  {
   "cell_type": "code",
   "execution_count": 757,
   "metadata": {},
   "outputs": [],
   "source": [
    "cltheory=np.loadtxt(\"/global/homes/j/jia_qu/so-lenspipe/data/clkk.txt\")[:1000]"
   ]
  },
  {
   "cell_type": "code",
   "execution_count": 758,
   "metadata": {},
   "outputs": [
    {
     "data": {
      "text/plain": [
       "[<matplotlib.lines.Line2D at 0x2aaaf24c1790>]"
      ]
     },
     "execution_count": 758,
     "metadata": {},
     "output_type": "execute_result"
    },
    {
     "data": {
      "image/png": "[encoded data removed]",
      "text/plain": [
       "<Figure size 432x288 with 1 Axes>"
      ]
     },
     "metadata": {
      "needs_background": "light"
     },
     "output_type": "display_data"
    }
   ],
   "source": [
    "plt.semilogy(clkk)\n",
    "plt.semilogy(cltheory)"
   ]
  },
  {
   "cell_type": "markdown",
   "metadata": {},
   "source": [
    "### cib cross kappa"
   ]
  },
  {
   "cell_type": "code",
   "execution_count": 873,
   "metadata": {},
   "outputs": [],
   "source": [
    "def cib_window(nu,b=3.6e-62):\n",
    "    z_c=2\n",
    "    sigma_z=2\n",
    "    beta=2\n",
    "    nu=nu*10**9\n",
    "    T=34\n",
    "    k=1.38064852e-23\n",
    "    h=6.62607015e-34\n",
    "    f_nu=lambda x: ((np.exp(h*x/(k*T))-1)**(-1))*x**(beta+3)\n",
    "    eta_0=1.5e18\n",
    "    return b*(chis**2/(1.+zs)**2)*np.exp(-(zs-z_c)**2/(2*sigma_z**2))*f_nu(nu*(1+zs))"
   ]
  },
  {
   "cell_type": "code",
   "execution_count": null,
   "metadata": {},
   "outputs": [],
   "source": []
  },
  {
   "cell_type": "code",
   "execution_count": 874,
   "metadata": {},
   "outputs": [
    {
     "name": "stderr",
     "output_type": "stream",
     "text": [
      "/global/homes/j/jia_qu/.conda/envs/myenv/lib/python3.7/site-packages/ipykernel_launcher.py:9: RuntimeWarning: overflow encountered in exp\n",
      "  if __name__ == '__main__':\n"
     ]
    }
   ],
   "source": [
    "cib_window=cib_window(545,b=3.6e-62)"
   ]
  },
  {
   "cell_type": "code",
   "execution_count": 875,
   "metadata": {},
   "outputs": [
    {
     "name": "stderr",
     "output_type": "stream",
     "text": [
      "/global/homes/j/jia_qu/.local/lib/python3.7/site-packages/camb/results.py:953: RuntimeWarning: divide by zero encountered in log\n",
      "  return self.logsign * np.exp(self(z, np.log(kh), grid=grid))\n"
     ]
    }
   ],
   "source": [
    "cl_cibk=[]\n",
    "wkc = np.ones(chis.shape)\n",
    "\n",
    "ells=np.arange(2000)\n",
    "for l in ells:\n",
    "    k=(l)/chis\n",
    "    wkc[:]=1\n",
    "    wkc[k<1e-4]=0\n",
    "    wkc[k>=kmax]=0\n",
    "    pkin = PK.P(zs, k, grid=False)\n",
    "    common = ((wkc*pkin)*precalcFactor)[zs>=zmin]        \n",
    "    estCl = np.dot(dchis[zs>=zmin], common*(lensingwindow*cib_window)[zs>=zmin])\n",
    "    cl_cibk.append(estCl)\n",
    "    \n"
   ]
  },
  {
   "cell_type": "code",
   "execution_count": null,
   "metadata": {},
   "outputs": [],
   "source": []
  },
  {
   "cell_type": "code",
   "execution_count": 876,
   "metadata": {},
   "outputs": [],
   "source": [
    "import pandas as pd\n",
    "planck=pd.read_csv(\"/global/homes/j/jia_qu/cosmo_cleaner/notebooks/planck.csv\")"
   ]
  },
  {
   "cell_type": "code",
   "execution_count": 877,
   "metadata": {},
   "outputs": [
    {
     "name": "stderr",
     "output_type": "stream",
     "text": [
      "/global/homes/j/jia_qu/.conda/envs/myenv/lib/python3.7/site-packages/ipykernel_launcher.py:2: RuntimeWarning: invalid value encountered in true_divide\n",
      "  \n"
     ]
    }
   ],
   "source": [
    "L=np.arange(len(np.array(cl_cibk)))\n",
    "factor=2*L**3/L**2 #convert from kappa to phi with multiplicative factor in front"
   ]
  },
  {
   "cell_type": "code",
   "execution_count": 878,
   "metadata": {},
   "outputs": [
    {
     "data": {
      "text/plain": [
       "<matplotlib.legend.Legend at 0x2aab4ab3a190>"
      ]
     },
     "execution_count": 878,
     "metadata": {},
     "output_type": "execute_result"
    },
    {
     "data": {
      "image/png": "[encoded data removed]",
      "text/plain": [
       "<Figure size 432x288 with 1 Axes>"
      ]
     },
     "metadata": {
      "needs_background": "light"
     },
     "output_type": "display_data"
    }
   ],
   "source": [
    "plt.plot(np.array(cl_cibk)*factor,label='cibx$\\phi$')\n",
    "plt.plot(planck['ells'],planck['power'],'x')\n",
    "plt.legend()"
   ]
  },
  {
   "cell_type": "markdown",
   "metadata": {},
   "source": [
    "## WINDOW FUNCTION FOR GALAXY"
   ]
  },
  {
   "cell_type": "code",
   "execution_count": 824,
   "metadata": {},
   "outputs": [],
   "source": [
    "def dndz_gauss(bias,z,z0,sigma):\n",
    "    ans = 1/np.sqrt(2*np.pi*sigma**2)* np.exp((-(z-z0)**2)/ (2.*sigma**2.))\n",
    "    return bias*ans "
   ]
  },
  {
   "cell_type": "code",
   "execution_count": 825,
   "metadata": {},
   "outputs": [
    {
     "data": {
      "text/plain": [
       "[<matplotlib.lines.Line2D at 0x2aab4988b110>]"
      ]
     },
     "execution_count": 825,
     "metadata": {},
     "output_type": "execute_result"
    },
    {
     "data": {
      "image/png": "[encoded data removed]",
      "text/plain": [
       "<Figure size 432x288 with 1 Axes>"
      ]
     },
     "metadata": {
      "needs_background": "light"
     },
     "output_type": "display_data"
    }
   ],
   "source": [
    "plt.semilogx(zs,cib_window)\n"
   ]
  },
  {
   "cell_type": "code",
   "execution_count": 826,
   "metadata": {},
   "outputs": [
    {
     "data": {
      "text/plain": [
       "[<matplotlib.lines.Line2D at 0x2aab4943c690>]"
      ]
     },
     "execution_count": 826,
     "metadata": {},
     "output_type": "execute_result"
    },
    {
     "data": {
      "image/png": "[encoded data removed]",
      "text/plain": [
       "<Figure size 432x288 with 1 Axes>"
      ]
     },
     "metadata": {
      "needs_background": "light"
     },
     "output_type": "display_data"
    }
   ],
   "source": [
    "plt.plot(zs,galaxywindow)\n",
    "\n",
    "plt.semilogx(zs,lensingwindow)\n",
    "#plt.semilogx(zs,cib_window)\n"
   ]
  },
  {
   "cell_type": "code",
   "execution_count": 889,
   "metadata": {},
   "outputs": [],
   "source": [
    "def get_clgg(bias,zs,mean_z,width,lmax=2000):\n",
    "    galaxywindow=dndz_gauss(bias,zs,mean_z,width)\n",
    "    cl_autog=[]\n",
    "    ellsgg=np.arange(lmax)\n",
    "    for l in ellsgg:\n",
    "        k=(l+0.5)/chis\n",
    "        wg[:]=1\n",
    "        wg[k<1e-4]=0\n",
    "        wg[k>=kmax]=0\n",
    "        pkin = PK.P(zs, k, grid=False)\n",
    "        common = ((wg*pkin)*precalcFactor)[zs>=zmin]        \n",
    "        estCl = np.dot(dchis[zs>=zmin], common*(galaxywindow*galaxywindow)[zs>=zmin])\n",
    "        cl_autog.append(estCl)\n",
    "    return np.array(cl_autog)\n",
    "\n",
    "def get_cibk(lensingwindow,cib_window,lmax=2000):\n",
    "    cl_cibk=[]\n",
    "    wkc = np.ones(chis.shape)\n",
    "\n",
    "    ells=np.arange(2000)\n",
    "    for l in ells:\n",
    "        k=(l)/chis\n",
    "        wkc[:]=1\n",
    "        wkc[k<1e-4]=0\n",
    "        wkc[k>=kmax]=0\n",
    "        pkin = PK.P(zs, k, grid=False)\n",
    "        common = ((wkc*pkin)*precalcFactor)[zs>=zmin]        \n",
    "        estCl = np.dot(dchis[zs>=zmin], common*(lensingwindow*cib_window)[zs>=zmin])\n",
    "        cl_cibk.append(estCl)\n",
    "    return np.array(cl_cibk)\n",
    "\n",
    "def get_clkg(bias,zs,mean_z,width,lensingwindow,lmax=2000):\n",
    "    ellsgg=np.arange(lmax)\n",
    "    cl_cross=[]\n",
    "    for l in ellsgg:\n",
    "        k=(l+0.5)/chis\n",
    "        w[:]=1\n",
    "        w[k<1e-4]=0\n",
    "        w[k>=kmax]=0\n",
    "        pkin = PK.P(zs, k, grid=False)\n",
    "        common = ((w*pkin)*precalcFactor)[zs>=zmin]        \n",
    "        estCl = np.dot(dchis[zs>=zmin], common*(lensingwindow*galaxywindow)[zs>=zmin])\n",
    "        cl_cross.append(estCl)\n",
    "    return np.array(cl_cross)\n",
    "\n",
    "def get_clcib(cib_window,lmax=2000):\n",
    "    cl_cib=[]\n",
    "    ells=np.arange(lmax)\n",
    "    for l in ells:\n",
    "        k=(l)/chis\n",
    "        w[:]=1\n",
    "        w[k<1e-4]=0\n",
    "        w[k>=kmax]=0\n",
    "        pkin = PK.P(zs, k, grid=False)\n",
    "        common = ((w*pkin)*precalcFactor)[zs>=zmin]        \n",
    "        estCl = np.dot(dchis[zs>=zmin], common*(cib_window*cib_window)[zs>=zmin])\n",
    "        cl_cib.append(estCl) \n",
    "    return np.array(cl_cib)\n",
    "\n",
    "def get_clcibg(bias,zs,mean_z,width,cib_window,lmax=2000):\n",
    "    galaxywindow=dndz_gauss(bias,zs,mean_z,width)\n",
    "    cl_cibg=[]\n",
    "    ells=np.arange(2000)\n",
    "    wcg = np.ones(chis.shape)\n",
    "\n",
    "    for l in ells:\n",
    "        k=(l)/chis\n",
    "        wcg[:]=1\n",
    "        wcg[k<1e-4]=0\n",
    "        wcg[k>=kmax]=0\n",
    "        pkin = PK.P(zs, k, grid=False)\n",
    "        common = ((w*pkin)*precalcFactor)[zs>=zmin]        \n",
    "        estCl = np.dot(dchis[zs>=zmin], common*(cib_window*galaxywindow)[zs>=zmin])\n",
    "        cl_cibg.append(estCl) \n",
    "    return np.array(cl_cibg)"
   ]
  },
  {
   "cell_type": "code",
   "execution_count": 881,
   "metadata": {},
   "outputs": [
    {
     "data": {
      "text/plain": [
       "[<matplotlib.lines.Line2D at 0x2aab4abde550>]"
      ]
     },
     "execution_count": 881,
     "metadata": {},
     "output_type": "execute_result"
    },
    {
     "data": {
      "image/png": "[encoded data removed]",
      "text/plain": [
       "<Figure size 432x288 with 1 Axes>"
      ]
     },
     "metadata": {
      "needs_background": "light"
     },
     "output_type": "display_data"
    }
   ],
   "source": [
    "plt.plot(get_clgg(2,zs,0.5,2,lmax=2000))"
   ]
  },
  {
   "cell_type": "code",
   "execution_count": 885,
   "metadata": {},
   "outputs": [
    {
     "name": "stderr",
     "output_type": "stream",
     "text": [
      "/global/homes/j/jia_qu/.local/lib/python3.7/site-packages/camb/results.py:953: RuntimeWarning: divide by zero encountered in log\n",
      "  return self.logsign * np.exp(self(z, np.log(kh), grid=grid))\n"
     ]
    }
   ],
   "source": [
    "bias=2\n",
    "galaxywindow=dndz_gauss(bias,zs,0.5,2)\n",
    "cl_autog=[]\n",
    "cl_cross = []\n",
    "cl_cib=[]\n",
    "ellsgg=np.arange(2000)\n",
    "for l in ellsgg:\n",
    "    k=(l+0.5)/chis\n",
    "    wg[:]=1\n",
    "    wg[k<1e-4]=0\n",
    "    wg[k>=kmax]=0\n",
    "    pkin = PK.P(zs, k, grid=False)\n",
    "    common = ((wg*pkin)*precalcFactor)[zs>=zmin]        \n",
    "    estCl = np.dot(dchis[zs>=zmin], common*(galaxywindow*galaxywindow)[zs>=zmin])\n",
    "    cl_autog.append(estCl)\n",
    "    \n",
    "for l in ellsgg:\n",
    "    k=(l+0.5)/chis\n",
    "    w[:]=1\n",
    "    w[k<1e-4]=0\n",
    "    w[k>=kmax]=0\n",
    "    pkin = PK.P(zs, k, grid=False)\n",
    "    common = ((w*pkin)*precalcFactor)[zs>=zmin]        \n",
    "    estCl = np.dot(dchis[zs>=zmin], common*(lensingwindow*galaxywindow)[zs>=zmin])\n",
    "    cl_cross.append(estCl)\n",
    "\n",
    "cl_cib=[]\n",
    "ells=np.arange(2000)\n",
    "for l in ells:\n",
    "    k=(l)/chis\n",
    "    w[:]=1\n",
    "    w[k<1e-4]=0\n",
    "    w[k>=kmax]=0\n",
    "    pkin = PK.P(zs, k, grid=False)\n",
    "    common = ((w*pkin)*precalcFactor)[zs>=zmin]        \n",
    "    estCl = np.dot(dchis[zs>=zmin], common*(cib_window*cib_window)[zs>=zmin])\n",
    "    cl_cib.append(estCl) \n",
    "\n",
    "cl_cibg=[]\n",
    "ells=np.arange(2000)\n",
    "wcg = np.ones(chis.shape)\n",
    "\n",
    "for l in ells:\n",
    "    k=(l)/chis\n",
    "    wcg[:]=1\n",
    "    wcg[k<1e-4]=0\n",
    "    wcg[k>=kmax]=0\n",
    "    pkin = PK.P(zs, k, grid=False)\n",
    "    common = ((w*pkin)*precalcFactor)[zs>=zmin]        \n",
    "    estCl = np.dot(dchis[zs>=zmin], common*(cib_window*galaxywindow)[zs>=zmin])\n",
    "    cl_cibg.append(estCl) "
   ]
  },
  {
   "cell_type": "code",
   "execution_count": 847,
   "metadata": {},
   "outputs": [
    {
     "data": {
      "text/plain": [
       "array([   0.        ,  912.23485664, 1772.4426731 , ...,  364.54263591,\n",
       "        364.21555867,  363.88894121])"
      ]
     },
     "execution_count": 847,
     "metadata": {},
     "output_type": "execute_result"
    }
   ],
   "source": [
    "np.array(cl_cib)"
   ]
  },
  {
   "cell_type": "code",
   "execution_count": 886,
   "metadata": {},
   "outputs": [],
   "source": [
    "clgg=np.array(cl_autog)\n",
    "clkg=np.array(cl_cross)\n",
    "clcibcib=np.array(cl_cib)[:2000]\n",
    "clcibk=np.array(cl_cibk)\n",
    "clcibg=np.array(cl_cibg)\n",
    "clkk=np.array(clkk)\n",
    "clgg0=clgg/4\n",
    "clgk0=clkg/2\n"
   ]
  },
  {
   "cell_type": "code",
   "execution_count": 887,
   "metadata": {},
   "outputs": [
    {
     "data": {
      "text/plain": [
       "[<matplotlib.lines.Line2D at 0x2aab4af4b5d0>]"
      ]
     },
     "execution_count": 887,
     "metadata": {},
     "output_type": "execute_result"
    },
    {
     "data": {
      "image/png": "[encoded data removed]",
      "text/plain": [
       "<Figure size 432x288 with 1 Axes>"
      ]
     },
     "metadata": {
      "needs_background": "light"
     },
     "output_type": "display_data"
    }
   ],
   "source": [
    "plt.plot(clgg)\n",
    "plt.semilogy(2*clkg)"
   ]
  },
  {
   "cell_type": "code",
   "execution_count": 856,
   "metadata": {},
   "outputs": [],
   "source": [
    "cibcl0545=np.loadtxt(\"/global/homes/j/jia_qu/redshift_cleaning/cibcl0545.txt\")[:2000]"
   ]
  },
  {
   "cell_type": "code",
   "execution_count": 857,
   "metadata": {},
   "outputs": [
    {
     "data": {
      "text/plain": [
       "[<matplotlib.lines.Line2D at 0x2aab4a452890>]"
      ]
     },
     "execution_count": 857,
     "metadata": {},
     "output_type": "execute_result"
    },
    {
     "data": {
      "image/png": "[encoded data removed]",
      "text/plain": [
       "<Figure size 432x288 with 1 Axes>"
      ]
     },
     "metadata": {
      "needs_background": "light"
     },
     "output_type": "display_data"
    }
   ],
   "source": [
    "plt.semilogy(clcibcib/cibcl0545)\n"
   ]
  },
  {
   "cell_type": "code",
   "execution_count": 858,
   "metadata": {},
   "outputs": [
    {
     "data": {
      "text/plain": [
       "[<matplotlib.lines.Line2D at 0x2aab4a563c10>]"
      ]
     },
     "execution_count": 858,
     "metadata": {},
     "output_type": "execute_result"
    },
    {
     "data": {
      "image/png": "[encoded data removed]",
      "text/plain": [
       "<Figure size 432x288 with 1 Axes>"
      ]
     },
     "metadata": {
      "needs_background": "light"
     },
     "output_type": "display_data"
    }
   ],
   "source": [
    "plt.semilogy(clcibcib)\n",
    "plt.semilogy(cibcl0545)\n",
    "plt.semilogy(clcibcib145)"
   ]
  },
  {
   "cell_type": "code",
   "execution_count": 860,
   "metadata": {},
   "outputs": [
    {
     "data": {
      "text/plain": [
       "[<matplotlib.lines.Line2D at 0x2aab4a6b2910>]"
      ]
     },
     "execution_count": 860,
     "metadata": {},
     "output_type": "execute_result"
    },
    {
     "data": {
      "image/png": "[encoded data removed]",
      "text/plain": [
       "<Figure size 432x288 with 1 Axes>"
      ]
     },
     "metadata": {
      "needs_background": "light"
     },
     "output_type": "display_data"
    }
   ],
   "source": [
    "plt.semilogy(clcibcib)\n",
    "plt.semilogy(clkg)\n",
    "plt.semilogy(clgg)"
   ]
  },
  {
   "cell_type": "markdown",
   "metadata": {},
   "source": [
    "Multiplying clkg by the bias results in the clgg as expected."
   ]
  },
  {
   "cell_type": "code",
   "execution_count": 861,
   "metadata": {},
   "outputs": [
    {
     "data": {
      "text/plain": [
       "[<matplotlib.lines.Line2D at 0x2aab4a7c2510>]"
      ]
     },
     "execution_count": 861,
     "metadata": {},
     "output_type": "execute_result"
    },
    {
     "data": {
      "image/png": "[encoded data removed]",
      "text/plain": [
       "<Figure size 432x288 with 1 Axes>"
      ]
     },
     "metadata": {
      "needs_background": "light"
     },
     "output_type": "display_data"
    }
   ],
   "source": [
    "plt.plot(clgg/clkg)"
   ]
  },
  {
   "cell_type": "code",
   "execution_count": 862,
   "metadata": {},
   "outputs": [
    {
     "data": {
      "text/plain": [
       "<matplotlib.legend.Legend at 0x2aab4a7deb10>"
      ]
     },
     "execution_count": 862,
     "metadata": {},
     "output_type": "execute_result"
    },
    {
     "data": {
      "image/png": "[encoded data removed]",
      "text/plain": [
       "<Figure size 432x288 with 1 Axes>"
      ]
     },
     "metadata": {
      "needs_background": "light"
     },
     "output_type": "display_data"
    }
   ],
   "source": [
    "plt.semilogy(clgg,label='clgg')\n",
    "plt.semilogy(2*clkg,label='2*cl_kg')\n",
    "plt.legend()"
   ]
  },
  {
   "cell_type": "markdown",
   "metadata": {},
   "source": [
    "Lets examine the correlation coefficients"
   ]
  },
  {
   "cell_type": "code",
   "execution_count": 863,
   "metadata": {},
   "outputs": [
    {
     "data": {
      "text/plain": [
       "array([0.00011665, 0.00783545, 0.01461456, ..., 0.00043439, 0.00043413,\n",
       "       0.00043387])"
      ]
     },
     "execution_count": 863,
     "metadata": {},
     "output_type": "execute_result"
    }
   ],
   "source": [
    "clcibg"
   ]
  },
  {
   "cell_type": "code",
   "execution_count": 837,
   "metadata": {},
   "outputs": [
    {
     "name": "stderr",
     "output_type": "stream",
     "text": [
      "/global/homes/j/jia_qu/.conda/envs/myenv/lib/python3.7/site-packages/ipykernel_launcher.py:1: RuntimeWarning: divide by zero encountered in true_divide\n",
      "  \"\"\"Entry point for launching an IPython kernel.\n",
      "/global/homes/j/jia_qu/.conda/envs/myenv/lib/python3.7/site-packages/ipykernel_launcher.py:3: RuntimeWarning: invalid value encountered in true_divide\n",
      "  This is separate from the ipykernel package so we can avoid doing imports until\n"
     ]
    }
   ],
   "source": [
    "rhocibg_2 = clcibg**2/(clcibcib*clgg)\n",
    "rhokg_2 = clkg**2/(clkk*clgg) \n",
    "rhokcib_2 = clcibk**2/(clcibcib*clkk) "
   ]
  },
  {
   "cell_type": "code",
   "execution_count": 864,
   "metadata": {},
   "outputs": [
    {
     "data": {
      "text/plain": [
       "<matplotlib.legend.Legend at 0x2aab4a951b90>"
      ]
     },
     "execution_count": 864,
     "metadata": {},
     "output_type": "execute_result"
    },
    {
     "data": {
      "image/png": "[encoded data removed]",
      "text/plain": [
       "<Figure size 432x288 with 1 Axes>"
      ]
     },
     "metadata": {
      "needs_background": "light"
     },
     "output_type": "display_data"
    }
   ],
   "source": [
    "plt.plot(rhocibg_2,label=\"kcib\")\n",
    "plt.plot(rhokg_2,label=\"kg\")\n",
    "plt.plot(rhokcib_2,label=\"kcib\")\n",
    "plt.title(\"corrcoeff squared\")\n",
    "plt.legend()"
   ]
  },
  {
   "cell_type": "code",
   "execution_count": 865,
   "metadata": {},
   "outputs": [
    {
     "name": "stderr",
     "output_type": "stream",
     "text": [
      "/global/u1/j/jia_qu/szar/szar/foregrounds.py:101: RuntimeWarning: divide by zero encountered in true_divide\n",
      "  ans = A_cibc * (ells/ell0sec) ** (2.-n_cib)  *2.*np.pi*np.nan_to_num(1./ells/(ells+1.))\n",
      "/global/u1/j/jia_qu/szar/szar/foregrounds.py:94: RuntimeWarning: divide by zero encountered in true_divide\n",
      "  ans = A_cibp * (ells/ell0sec) ** 2.0  *2.*np.pi*np.nan_to_num(1./ells/(ells+1.))\n"
     ]
    }
   ],
   "source": [
    "from szar import foregrounds\n",
    "ellrange=np.arange(2000)\n",
    "nu0 = 545\n",
    "clcibcib145 = foregrounds.power_cibc(ellrange, nu1 = nu0)+foregrounds.power_cibp(ellrange, nu1 = nu0)"
   ]
  },
  {
   "cell_type": "code",
   "execution_count": 866,
   "metadata": {},
   "outputs": [
    {
     "data": {
      "text/plain": [
       "[<matplotlib.lines.Line2D at 0x2aab4a9dde90>]"
      ]
     },
     "execution_count": 866,
     "metadata": {},
     "output_type": "execute_result"
    },
    {
     "data": {
      "image/png": "[encoded data removed]",
      "text/plain": [
       "<Figure size 432x288 with 1 Axes>"
      ]
     },
     "metadata": {
      "needs_background": "light"
     },
     "output_type": "display_data"
    }
   ],
   "source": [
    "plt.semilogy(clcibcib145,label='szar cib')\n",
    "plt.plot(cl_cib,label='own cib')\n"
   ]
  },
  {
   "cell_type": "code",
   "execution_count": 867,
   "metadata": {},
   "outputs": [],
   "source": [
    "clgg=np.array(cl_autog)\n",
    "clkg=np.array(cl_cross)\n",
    "clcibcib=np.array(cl_cib)\n",
    "clcibk=np.array(cl_cibk)\n",
    "clcibg=np.array(cl_cibg)\n",
    "clkk=np.array(clkk)\n"
   ]
  },
  {
   "cell_type": "code",
   "execution_count": 868,
   "metadata": {},
   "outputs": [
    {
     "data": {
      "text/plain": [
       "2000"
      ]
     },
     "execution_count": 868,
     "metadata": {},
     "output_type": "execute_result"
    }
   ],
   "source": [
    "len(clkkn)"
   ]
  },
  {
   "cell_type": "code",
   "execution_count": 869,
   "metadata": {},
   "outputs": [
    {
     "data": {
      "text/plain": [
       "3.019437139441878"
      ]
     },
     "execution_count": 869,
     "metadata": {},
     "output_type": "execute_result"
    }
   ],
   "source": [
    "3.019437139441878"
   ]
  },
  {
   "cell_type": "code",
   "execution_count": 870,
   "metadata": {},
   "outputs": [
    {
     "name": "stdout",
     "output_type": "stream",
     "text": [
      "[[86117.45205676]]\n",
      "[[86117.45205676]]\n",
      "Base error is [[0.00340765]]\n",
      "[[100940.62783124]]\n",
      "[[100940.62783124]]\n",
      "7.6339045764400035 % improvement with cleaning\n"
     ]
    },
    {
     "name": "stderr",
     "output_type": "stream",
     "text": [
      "/global/u1/j/jia_qu/cosmo_cleaner/cosmo_cleaner/fisher.py:69: RuntimeWarning: divide by zero encountered in true_divide\n",
      "  result = 1/self.Nmodes*(self.get_spectra_element(X, W)*self.get_spectra_element(Y, Z)+self.get_spectra_element(X, Z)*self.get_spectra_element(Y, W))\n",
      "/global/u1/j/jia_qu/cosmo_cleaner/cosmo_cleaner/fisher.py:101: RuntimeWarning: divide by zero encountered in power\n",
      "  self.error_per_mode_non_marginalized = np.nan_to_num(np.diagonal(fisher_per_mode,axis1 = 1, axis2 = 2)**-0.5)\n",
      "/global/homes/j/jia_qu/.conda/envs/myenv/lib/python3.7/site-packages/ipykernel_launcher.py:28: RuntimeWarning: invalid value encountered in true_divide\n"
     ]
    },
    {
     "data": {
      "text/plain": [
       "(0.003407645543755412, 0.003147509134641814)"
      ]
     },
     "execution_count": 870,
     "metadata": {},
     "output_type": "execute_result"
    }
   ],
   "source": [
    "compare_cleaning(clgg,clcibcib,clkk,clkg,clcibk,clcibg,cut=400,fsky=1)"
   ]
  },
  {
   "cell_type": "code",
   "execution_count": 697,
   "metadata": {},
   "outputs": [],
   "source": [
    "def compare_cleaning(clgg,clcibcib,clkk,clkg,clcibk,clcibg,cut=500,fsky=1):\n",
    "    clgg0=clgg/4\n",
    "    clgk0=clkg/2\n",
    "    ellrange=np.arange(cut)\n",
    "    \n",
    "    #calculate the base error\n",
    "    spectra = {'kg': clkg[:cut], 'gg' :clgg[:cut], 'kk': clkk[:cut]}\n",
    "    spectra_used = ['kg', 'gg']\n",
    "    pars = ['b']#, 's'\n",
    "    Npars = len(pars)\n",
    "    der_spectra_alpha = np.ones((len(clkg[:cut]), num_spectra, Npars))\n",
    "    #Derivatives with respect to b\n",
    "    der_spectra_alpha[:, 0, 0] = clgk0[:cut]\n",
    "    der_spectra_alpha[:, 1, 0] = 2*bias*clgg0[:cut]\n",
    "    \n",
    "    F_kg_gg_only = fisher.Forecaster(fsky, ellrange, ['k', 'g'], spectra, use_as_data =spectra_used)\n",
    "\n",
    "    F_kg_gg_only.prepare_cov_for_error()\n",
    "    err_kg_gg_only = F_kg_gg_only.make_fisher_and_err_bars(pars, der_spectra_alpha) \n",
    "    print(f'Base error is {err_kg_gg_only}')   \n",
    "    \n",
    "    #incorporate cib\n",
    "    ## Now combine convergence and CIB\n",
    "    spectra_cross = {'k': clkg[:cut], 'i': clcibg[:cut]}\n",
    "    spectra_auto = {'kk': clkk[:cut], 'ii': clcibcib[:cut], 'ki': clcibk[:cut]}\n",
    "    C = fisher.Combiner(ellrange, spectra_cross, spectra_auto)\n",
    "    a = np.ones((len(ellrange), 2)) \n",
    "    all_x=-clcibk[:cut]/clcibcib[:cut]\n",
    "    a = np.ones((len(ellrange), 2)) \n",
    "    a[:, 1] = all_x\n",
    "    cross, auto = C.combine(a = a)\n",
    "    cross = clkg #do not change clkg, as ideally this should not be affected by cleaning, in this case they are the same\n",
    "    spectra = {'kg': cross[:cut], 'gg' :clgg[:cut], 'kk': auto[:cut]}\n",
    "    pars = ['b']#, 's']\n",
    "    Npars = len(pars)\n",
    "    der_spectra_alpha = np.ones((len(clkg[:cut]), 3, Npars))\n",
    "    #Derivatives with respect to b\n",
    "    der_spectra_alpha[:, 0, 0] = cross[:cut]/bias\n",
    "    der_spectra_alpha[:, 1, 0] = 2*bias*clgg0[:cut]\n",
    "    der_spectra_alpha[:, 2, 0] = clkk[:cut]*np.zeros(len(clkk[:cut]))\n",
    "    F=fisher.Forecaster(fsky,ellrange,['k','g'],spectra)\n",
    "    F.prepare_cov_for_error()\n",
    "    result=F.make_fisher_and_err_bars(pars,der_spectra_alpha)\n",
    "    print(f'{100*(err_kg_gg_only[0][0]-result[0][0])/err_kg_gg_only[0][0]} % improvement with cleaning')\n",
    "    return (err_kg_gg_only[0][0],result[0][0])"
   ]
  },
  {
   "cell_type": "code",
   "execution_count": null,
   "metadata": {},
   "outputs": [],
   "source": []
  }
 ],
 "metadata": {
  "kernelspec": {
   "display_name": "MyEnv",
   "language": "python",
   "name": "myenv"
  },
  "language_info": {
   "codemirror_mode": {
    "name": "ipython",
    "version": 3
   },
   "file_extension": ".py",
   "mimetype": "text/x-python",
   "name": "python",
   "nbconvert_exporter": "python",
   "pygments_lexer": "ipython3",
   "version": "3.7.9"
  }
 },
 "nbformat": 4,
 "nbformat_minor": 4
}
