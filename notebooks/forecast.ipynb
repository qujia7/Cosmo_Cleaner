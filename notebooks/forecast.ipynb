{
 "cells": [
  {
   "cell_type": "code",
   "execution_count": 11,
   "metadata": {},
   "outputs": [],
   "source": [
    "import numpy as np\n",
    "from orphics import maps, cosmology,io,stats\n",
    "from scipy import optimize\n",
    "import szar\n",
    "from szar import foregrounds\n",
    "import matplotlib.pyplot as plt\n",
    "import matplotlib.font_manager as font_manager\n",
    "from matplotlib.collections import LineCollection\n",
    "from matplotlib.colors import ListedColormap, BoundaryNorm\n"
   ]
  },
  {
   "cell_type": "code",
   "execution_count": 4,
   "metadata": {},
   "outputs": [],
   "source": [
    "class Combiner():\n",
    "    def __init__(self, ells, spectra_cross: dict = {}, spectra_auto: dict = {}):\n",
    "        '''\n",
    "        ells: bins in l space\n",
    "        spectra_cross: cross of field fi with g, just use fi as the name \n",
    "        spectra_auto: fi, fj crosses\n",
    "        '''\n",
    "        self.nbins=len(ells)\n",
    "        spectra_list=list(spectra_cross.keys())\n",
    "        self.Nfields = len(spectra_list)\n",
    "        self.spectra_cross = np.zeros((self.nbins, self.Nfields))\n",
    "        self.spectra_auto = np.zeros((self.nbins, self.Nfields, self.Nfields))\n",
    "        \n",
    "        for i, name in enumerate(spectra_list):\n",
    "            self.spectra_cross[:, i] = spectra_cross[name]\n",
    "            for j, name2 in enumerate(spectra_list):\n",
    "                try:\n",
    "                    self.spectra_auto[:, i, j] = spectra_auto[name+name2]\n",
    "                except:\n",
    "                    self.spectra_auto[:,i,j]= spectra_auto[name2+name]\n",
    "    \n",
    "    def combine(self, a):\n",
    "        cross = np.einsum('...j, ...j -> ...', a, self.spectra_cross)\n",
    "        auto = np.einsum('...i, ...ij, ...j -> ...', a, self.spectra_auto, a)\n",
    "        return cross, auto\n",
    "    \n",
    "class Forecaster():\n",
    "    def __init__(self, fsky, ells, names : list = ['k', 'g'], spectra: dict ={}, use_as_data: list = ['kg', 'gg', 'kk']):\n",
    "        '''\n",
    "        fsky: fraction of sky\n",
    "        ells: bins in l space, centers\n",
    "        spectra:dict in which key corresponds to the name of C_ell, and values are C_ell array\n",
    "        names: put field to be cleaned first, then the cross correlated one \n",
    "        use_as_data: spectra used in practice, e.g. kk, gg or kk, gg, kg \n",
    "        '''\n",
    "        self.names = names\n",
    "        self.k = names[0]\n",
    "        self.g = names[1]\n",
    "        self.Nfields = len(names)\n",
    "        self.nbins = len(ells)\n",
    "        self.Nmodes = self.get_Nmodes(ells, fsky) \n",
    "        self.fsky = fsky\n",
    "        self.list_spectra = use_as_data #list(spectra.keys()) \n",
    "        self.Nspectra = len(self.list_spectra)\n",
    "        #self.used = use_as_data\n",
    "        self.spectra = spectra\n",
    "        \n",
    "    def get_Nmodes(self, ells, fsky):\n",
    "        deltal = ells[1]-ells[0] #ells[1:]-ells[:-1] \n",
    "        result = (2*ells*deltal*fsky)\n",
    "        return result\n",
    "    \n",
    "    def get_spectra_element(self, X, Y): \n",
    "        try:\n",
    "            result=self.spectra[X+Y]\n",
    "        except:\n",
    "            result=self.spectra[Y+X]\n",
    "        return result\n",
    "    \n",
    "    def get_gaussian_cov(self, X, Y, W, Z):\n",
    "        result = 1/self.Nmodes*(self.get_spectra_element(X, W)*self.get_spectra_element(Y, Z)+self.get_spectra_element(X, Z)*self.get_spectra_element(Y, W))\n",
    "        return result\n",
    "    \n",
    "    def get_cov(self, X, Y, W, Z):\n",
    "        return self.get_gaussian_cov(X, Y, W, Z)\n",
    "    \n",
    "    def prepare_cov_for_error(self, separator = ','):\n",
    "        self.cov = np.zeros((self.nbins, self.Nspectra, self.Nspectra))\n",
    "        self.cov_dict = {}\n",
    "        for a in self.list_spectra: \n",
    "            for b in self.list_spectra:\n",
    "                X, Y = list(a)\n",
    "                W, Z = list(b)\n",
    "                i = self.list_spectra.index(a)\n",
    "                j = self.list_spectra.index(b) \n",
    "                covariance = self.get_cov(X, Y, W, Z) \n",
    "                self.cov[:, i, j] = covariance \n",
    "                self.cov_dict[a+separator+b]= covariance\n",
    "        self.invcov = np.linalg.inv(self.cov)\n",
    "        return 0\n",
    "    \n",
    "    def make_fisher_and_err_bars(self, alphas, der_spectra_alpha):\n",
    "        '''\n",
    "        a: vector for the combination\n",
    "        e.g., Ckk = a.T Ckiki a, Ckg = a.T Ckig \n",
    "        '''\n",
    "        Npars = len(alphas)\n",
    "        assert(der_spectra_alpha.shape[0] == self.nbins) \n",
    "        assert(der_spectra_alpha.shape[1] == self.Nspectra) \n",
    "        assert(der_spectra_alpha.shape[2] == Npars)\n",
    "        \n",
    "        fisher_per_mode = np.einsum('...ik, ...ij, ...jm -> ...km',der_spectra_alpha, np.nan_to_num(self.invcov), der_spectra_alpha)\n",
    "        self.error_per_mode_non_marginalized = np.nan_to_num(np.diagonal(fisher_per_mode,axis1 = 1, axis2 = 2)**-0.5)\n",
    "        fisher_integrated = np.sum(fisher_per_mode, axis = 0) \n",
    "        self.fisher = fisher_integrated \n",
    "        self.error_non_marginalized = np.diag(self.fisher)**-0.5 \n",
    "        self.error_marginalized = np.linalg.inv(self.fisher)**0.5 \n",
    "        return self.error_marginalized\n",
    "    "
   ]
  },
  {
   "cell_type": "code",
   "execution_count": 6,
   "metadata": {},
   "outputs": [],
   "source": [
    "def make_multiple_plots(l, spectra_list = [], labels = [], colors = [], ls = [],title = '', ylabel = '$C_l$', xlabel = '$l$', yscale = 'log', xscale ='linear'):\n",
    "    plt.title(title)\n",
    "    for i, c in enumerate(spectra_list):\n",
    "        plt.semilogy(l, c, color = colors[i], ls = ls[i], label = labels[i]) \n",
    "    plt.ylabel(ylabel)\n",
    "    plt.xlabel(xlabel)\n",
    "    plt.yscale(yscale)\n",
    "    plt.xscale(xscale)\n",
    "    plt.legend(loc = 'best', fontsize = 15) \n",
    "    plt.show()\n",
    "    plt.close()"
   ]
  },
  {
   "cell_type": "code",
   "execution_count": 7,
   "metadata": {},
   "outputs": [],
   "source": [
    "bias = 2.\n",
    "zmin, zmax = 0.2, 0.5\n",
    "bias_cib = 1.\n",
    "zmin_cib, zmax_cib = 4, 500\n",
    "fsky = 1."
   ]
  },
  {
   "cell_type": "code",
   "execution_count": 19,
   "metadata": {},
   "outputs": [
    {
     "name": "stdout",
     "output_type": "stream",
     "text": [
      "Generating theory Cls...\n",
      "Loaded cached Cls from  output/clsAll_low_acc_False_2000_20210126.pkl\n",
      "Loaded cached Cls from  output/clphi_low_acc_False_2000_20210126.txt\n",
      "initializing power...\n",
      "Initializing CMB window..\n",
      "('Initializing galaxy window for ', 'g', ' ...')\n",
      "('Initializing galaxy window for ', 'cib', ' ...')\n"
     ]
    }
   ],
   "source": [
    "#load galaxy and cib\n",
    "lc=cosmology.LimberCosmology(lmax=2000,pickling=True)\n",
    "lc.addStepNz(\"g\", zmin, zmax, bias = bias) \n",
    "lc.addStepNz(\"cib\", zmin_cib, zmax_cib, bias = bias_cib)"
   ]
  },
  {
   "cell_type": "code",
   "execution_count": 20,
   "metadata": {},
   "outputs": [],
   "source": [
    "ellrange = np.logspace(np.log(2), np.log(20), 10) #np.log(1,2000,100)\n",
    "lc.generateCls(ellrange)\n",
    "clkk = lc.getCl(\"cmb\",\"cmb\") \n",
    "clkg0 = lc.getCl(\"cmb\",\"g\") \n",
    "clgg0 = lc.getCl(\"g\",\"g\") \n",
    "clcibcib = lc.getCl(\"cib\",\"cib\") #what is the difference between this cib and the one in [26] at 145Ghz\n",
    "clcibg0 = lc.getCl(\"cib\",\"g\") \n",
    "clcibk = lc.getCl(\"cib\",\"cmb\")\n",
    "clkg = clkg0*bias \n",
    "clgg = clgg0*bias**2 \n",
    "clcibg = clcibg0*bias"
   ]
  },
  {
   "cell_type": "code",
   "execution_count": 16,
   "metadata": {},
   "outputs": [
    {
     "data": {
      "text/plain": [
       "[<matplotlib.lines.Line2D at 0x2aaae9a1d650>]"
      ]
     },
     "execution_count": 16,
     "metadata": {},
     "output_type": "execute_result"
    },
    {
     "data": {
      "image/png": "[encoded data removed]",
      "text/plain": [
       "<Figure size 432x288 with 1 Axes>"
      ]
     },
     "metadata": {
      "needs_background": "light"
     },
     "output_type": "display_data"
    }
   ],
   "source": [
    "plt.semilogy(ellrange,clcibcib)"
   ]
  },
  {
   "cell_type": "code",
   "execution_count": 22,
   "metadata": {},
   "outputs": [],
   "source": [
    "nu0 = 145\n",
    "clcibcib145 = foregrounds.power_cibc(ellrange, nu1 = nu0)+foregrounds.power_cibp(ellrange, nu1 = nu0)\n",
    "kappa_cib_corrcoeff = foregrounds.kappa_cib_corrcoeff(ellrange) \n",
    "clcib145k = np.sqrt(clcibcib145*clkk)*kappa_cib_corrcoeff"
   ]
  },
  {
   "cell_type": "code",
   "execution_count": 23,
   "metadata": {},
   "outputs": [
    {
     "data": {
      "text/plain": [
       "[<matplotlib.lines.Line2D at 0x2aaafc4be5d0>]"
      ]
     },
     "execution_count": 23,
     "metadata": {},
     "output_type": "execute_result"
    },
    {
     "data": {
      "image/png": "[encoded data removed]",
      "text/plain": [
       "<Figure size 432x288 with 1 Axes>"
      ]
     },
     "metadata": {
      "needs_background": "light"
     },
     "output_type": "display_data"
    }
   ],
   "source": [
    "plt.semilogy(clcibk)\n",
    "plt.semilogy(clcib145k)"
   ]
  },
  {
   "cell_type": "code",
   "execution_count": 17,
   "metadata": {},
   "outputs": [
    {
     "data": {
      "text/plain": [
       "[<matplotlib.lines.Line2D at 0x2aaaf3f55110>]"
      ]
     },
     "execution_count": 17,
     "metadata": {},
     "output_type": "execute_result"
    },
    {
     "data": {
      "image/png": "[encoded data removed]",
      "text/plain": [
       "<Figure size 432x288 with 1 Axes>"
      ]
     },
     "metadata": {
      "needs_background": "light"
     },
     "output_type": "display_data"
    }
   ],
   "source": [
    "plt.semilogy(ellrange,clcibcib)\n",
    "plt.semilogy(ellrange,clcibcib145)\n"
   ]
  },
  {
   "cell_type": "code",
   "execution_count": null,
   "metadata": {},
   "outputs": [],
   "source": []
  }
 ],
 "metadata": {
  "kernelspec": {
   "display_name": "MyEnv",
   "language": "python",
   "name": "myenv"
  },
  "language_info": {
   "codemirror_mode": {
    "name": "ipython",
    "version": 3
   },
   "file_extension": ".py",
   "mimetype": "text/x-python",
   "name": "python",
   "nbconvert_exporter": "python",
   "pygments_lexer": "ipython3",
   "version": "3.7.9"
  }
 },
 "nbformat": 4,
 "nbformat_minor": 4
}
