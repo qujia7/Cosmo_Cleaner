{
 "cells": [
  {
   "cell_type": "code",
   "execution_count": 27,
   "metadata": {},
   "outputs": [],
   "source": [
    "import numpy as np\n",
    "from orphics import maps, cosmology,io,stats\n",
    "from scipy import optimize\n",
    "import matplotlib.pyplot as plt\n",
    "import matplotlib.font_manager as font_manager\n",
    "from matplotlib.collections import LineCollection\n",
    "from matplotlib.colors import ListedColormap, BoundaryNorm\n",
    "#from IPython.display import set_matplotlib_formats set_matplotlib_formats('retina')\n",
    "csfont = {'fontname':'Latin Modern Roman'}\n",
    "font = font_manager.FontProperties(family='Latin Modern Roman',style='normal', size = 8)\n",
    "#from cosmo_cleaner import fisher\n",
    "\n",
    "def get_corrcoef(clgg,clcibcib,clkk,clkg,clcibk,clcibg):\n",
    "    rho={}\n",
    "    rho_gk=np.sqrt(clkg**2/(clgg*clkk))\n",
    "    rho_gcib=np.sqrt(clcibg**2/(clcibcib*clgg))\n",
    "    rho_kcib=np.sqrt(clcibk**2/(clcibcib*clkk))\n",
    "    rho['gk']=rho_gk\n",
    "    rho['gcib']=rho_gcib\n",
    "    rho['kcib']=rho_kcib\n",
    "    return rho\n",
    "\n",
    "#create forecaster class\n",
    "\n",
    "#receive spectra as a dict\n",
    "\n",
    "class Fisher():\n",
    "    def __init__(self, fsky,Npars, ells, spectra, der_spectra):\n",
    "        self.spectra=spectra\n",
    "        self.fsky=fsky\n",
    "        self.der_spectra=der_spectra\n",
    "        self.Npars=Npars\n",
    "        self.ells=ells\n",
    "        #function to get the number of modes\n",
    "        \n",
    "    def get_modes(self):\n",
    "        \n",
    "        deltaL=np.zeros(len(self.ells))\n",
    "        deltaL[0]=self.ells[0]-0\n",
    "        deltaL[1:]=self.ells[1:]-self.ells[:-1] \n",
    "        result = (2*self.ells*deltaL*self.fsky)\n",
    "        return 1/result\n",
    "\n",
    "    def get_Cl(self,X,Y):\n",
    "        \"\"\"X:g,k,i\n",
    "           Y:g,k,i\n",
    "        \"\"\"\n",
    "        if X+Y in self.spectra:\n",
    "            Cl=self.spectra[X+Y]\n",
    "        elif Y+X in self.spectra:\n",
    "            Cl=self.spectra[Y+X]\n",
    "        else:\n",
    "            #field not present assume its zero and do not return error\n",
    "            Cl=np.zeros(len(self.ells))\n",
    "        return Cl\n",
    "\n",
    "    def get_cov(self,X,Y,W,Z):\n",
    "        return self.get_modes()*(self.get_Cl(X,W)*self.get_Cl(Y,Z)+self.get_Cl(X,Z)*self.get_Cl(Y,W))\n",
    "\n",
    "    def get_covmat(self):\n",
    "        self.covmat=np.zeros((len(self.ells),len(self.spectra),len(self.spectra)))\n",
    "        self.cov_dict = {}\n",
    "        for i in range(len(self.spectra)): \n",
    "            for j in range(len(self.spectra)):\n",
    "                X,Y=list(self.spectra)[i]\n",
    "                W,Z=list(self.spectra)[j]\n",
    "                self.covmat[:,i,j]=self.get_cov(X,Y,W,Z)\n",
    "                self.cov_dict[list(self.spectra)[i]+','+list(self.spectra)[j]]= self.get_cov(X,Y,W,Z)\n",
    "        return self.covmat\n",
    "    \n",
    "    def get_fisher(self):\n",
    "        \n",
    "        #derivatives check shape (ells,len(spectra),len(pars))\n",
    "        assert(self.der_spectra.shape[0] == len(self.ells)) \n",
    "        assert(self.der_spectra.shape[1] == len(self.spectra)) \n",
    "        assert(self.der_spectra.shape[2] == self.Npars)\n",
    "        fisher_per_mode = np.einsum('...ik, ...ij, ...jm -> ...km',self.der_spectra, np.nan_to_num(np.linalg.inv(self.get_covmat())), self.der_spectra)\n",
    "        self.fisher_per_mode=fisher_per_mode\n",
    "        self.error_per_mode_non_marginalized = np.nan_to_num(np.diagonal(fisher_per_mode,axis1 = 1, axis2 = 2)**-0.5)\n",
    "        \n",
    "        self.fisher=np.sum(self.fisher_per_mode,axis=0)\n",
    "        self.error_non_marginalized = np.diag(self.fisher)**-0.5 \n",
    "        self.error_marginalized = np.linalg.inv(self.fisher)**0.5\n",
    "        \n",
    "        return self.error_marginalized[0]\n",
    "    \n",
    "def compare_cleaning(clgg,clcibcib,clkk,clkg,clcibk,clcibg,bias,ellrange,cut=500,fsky=1):\n",
    "    clgg0=clgg/bias**2\n",
    "    clkg0=clkg/bias\n",
    "    clcibg0=clcibg/bias\n",
    "    ellrange=ellrange[:cut]\n",
    "\n",
    "    clgg0=clgg/bias**2\n",
    "    clkg0=clkg/bias\n",
    "    clcibg0=clcibg/bias\n",
    "    ellrange=ellrange[:cut]\n",
    "\n",
    "    #calculate the base error\n",
    "    spectra = {'kg': clkg[:cut], 'gg' :clgg[:cut], 'kk': clkk[:cut]}\n",
    "    pars = ['b','omega']#, 's'\n",
    "    Npars = len(pars)\n",
    "    der_spectra_alpha = np.ones((len(clkg[:cut]), len(spectra), Npars))\n",
    "    #Derivatives with respect to b\n",
    "    der_spectra_alpha[:, 0, 0] = clkg0[:cut]\n",
    "    der_spectra_alpha[:, 1, 0] = 2*bias*clgg0[:cut]\n",
    "    der_spectra_alpha[:, 2, 0] = np.zeros((len(clkg[:cut])))\n",
    "    #derivatives wrt to omega\n",
    "    der_spectra_alpha[:, 0, 1] = 2*bias*clkg0[:cut]\n",
    "    der_spectra_alpha[:, 1, 1] = 2*bias**2*clgg0[:cut]\n",
    "    der_spectra_alpha[:, 2, 1] = 2*clkk[:cut]\n",
    "\n",
    "    a=Fisher(1,2,ellrange,spectra,der_spectra_alpha)\n",
    "    old=a.get_fisher()[0]\n",
    "    oldf=a.error_per_mode_non_marginalized\n",
    "    \n",
    "    clkk_n=clkk-clcibk**2/clcibcib\n",
    "    #calculate the base error\n",
    "    spectra = {'kg': clkg[:cut], 'gg' :clgg[:cut], 'kk': clkk_n[:cut]}\n",
    "    pars = ['b','omega']#, 's'\n",
    "    Npars = len(pars)\n",
    "    der_spectra_alpha = np.ones((len(clkg[:cut]), len(spectra), Npars))\n",
    "    #Derivatives with respect to b\n",
    "    der_spectra_alpha[:, 0, 0] = clkg0[:cut]\n",
    "    der_spectra_alpha[:, 1, 0] = 2*bias*clgg0[:cut]\n",
    "    der_spectra_alpha[:, 2, 0] = np.zeros((len(clkg[:cut])))\n",
    "    #derivatives wrt to omega\n",
    "    der_spectra_alpha[:, 0, 1] = 2*bias*clkg0[:cut]\n",
    "    der_spectra_alpha[:, 1, 1] = 2*bias**2*clgg0[:cut]\n",
    "    der_spectra_alpha[:, 2, 1] = 2*(clkk_n[:cut]-(clcibk**2/clcibcib)[:cut])\n",
    "\n",
    "    a=Fisher(1,2,ellrange,spectra,der_spectra_alpha)\n",
    "    new=a.get_fisher()[0]\n",
    "    newf=a.error_per_mode_non_marginalized\n",
    "    #print(f'{100*(old-new)/old} % improvement with cleaning')\n",
    "    return (100*(old-new)/old,old,new,oldf,newf)   "
   ]
  },
  {
   "cell_type": "code",
   "execution_count": 3,
   "metadata": {},
   "outputs": [
    {
     "name": "stdout",
     "output_type": "stream",
     "text": [
      "Generating theory Cls...\n",
      "initializing power...\n",
      "Initializing CMB window..\n"
     ]
    }
   ],
   "source": [
    "l1c = cosmology.LimberCosmology(lmax=2000,pickling=True)"
   ]
  },
  {
   "cell_type": "code",
   "execution_count": 5,
   "metadata": {},
   "outputs": [],
   "source": [
    "#specify the redshifts\n",
    "z_edges = np.arange(0.,4.0,0.01)\n",
    "zcents = (z_edges[1:]+z_edges[:-1])/2.\n",
    "g1=np.zeros(len(zcents))\n",
    "g2=np.zeros(len(zcents))\n",
    "g3=np.zeros(len(zcents))\n",
    "\n",
    "#g3 the external tracer. g1 the low z tracer\n",
    "g1[zcents<0.3]=np.interp(zcents[zcents<0.3], l1c.zs, l1c.kernels['cmb']['W'])\n",
    "g2=np.interp(zcents, l1c.zs, l1c.kernels['cmb']['W'])\n",
    "g3[zcents>0.3]=np.interp(zcents[zcents>0.3], l1c.zs, l1c.kernels['cmb']['W'])"
   ]
  },
  {
   "cell_type": "code",
   "execution_count": 20,
   "metadata": {},
   "outputs": [
    {
     "data": {
      "text/plain": [
       "<matplotlib.legend.Legend at 0x7f06af21c8d0>"
      ]
     },
     "execution_count": 20,
     "metadata": {},
     "output_type": "execute_result"
    },
    {
     "data": {
      "image/png": "[encoded data removed]",
      "text/plain": [
       "<Figure size 432x288 with 1 Axes>"
      ]
     },
     "metadata": {
      "needs_background": "light"
     },
     "output_type": "display_data"
    }
   ],
   "source": [
    "#plt.semilogy(zcents,g1)\n",
    "plt.plot(zcents,g1,label='galaxy')\n",
    "plt.plot(zcents,np.interp(zcents, l1c.zs, l1c.kernels['g2']['W']),label='kappa')\n",
    "plt.semilogy(zcents,g3)\n",
    "plt.legend()"
   ]
  },
  {
   "cell_type": "code",
   "execution_count": 7,
   "metadata": {},
   "outputs": [
    {
     "name": "stdout",
     "output_type": "stream",
     "text": [
      "('Initializing galaxy window for ', 'g1', ' ...')\n",
      "('Initializing galaxy window for ', 'g2', ' ...')\n",
      "('Initializing galaxy window for ', 'g3', ' ...')\n"
     ]
    },
    {
     "data": {
      "image/png": "[encoded data removed]",
      "text/plain": [
       "<Figure size 432x288 with 1 Axes>"
      ]
     },
     "metadata": {
      "needs_background": "light"
     },
     "output_type": "display_data"
    }
   ],
   "source": [
    "\n",
    "# Let's add this dndz to the cosmology object. By default, LimberCosmology doesn't allow you to reuse tag names, but here we force it to since this is a Python notebook!\n",
    "l1c.addNz(\"g1\",zcents,g1,bias=2,ignore_exists=True)\n",
    "l1c.addNz(\"g2\",zcents,g2,bias=1,ignore_exists=True)\n",
    "l1c.addNz(\"g3\",zcents,g3,bias=1,ignore_exists=True)\n",
    "\n",
    "# and plot the resulting lensing kernel\n",
    "\n",
    "plt.figure()\n",
    "plt.plot(l1c.zs,l1c.kernels[\"g1\"]['W'],label='galaxy')\n",
    "#plt.plot(l1c.zs,l1c.kernels[\"g2\"]['W'],label='g2')\n",
    "plt.plot(l1c.zs,l1c.kernels[\"g2\"]['W'],label='kappa')\n",
    "#plt.plot(l1c.zs,l1c.kernels[\"g3\"]['W'],label='high z tracer')\n",
    "plt.plot(l1c.zs,l1c.kernels[\"g3\"]['W'],label='high z tracer')\n",
    "\n",
    "plt.legend()\n",
    "plt.xlim(0,3)\n",
    "plt.show()"
   ]
  },
  {
   "cell_type": "code",
   "execution_count": 23,
   "metadata": {},
   "outputs": [],
   "source": [
    "corr=get_corrcoef(clgg,clcibcib,clkk,clkg,clcibk,clcibg)"
   ]
  },
  {
   "cell_type": "code",
   "execution_count": 24,
   "metadata": {},
   "outputs": [
    {
     "data": {
      "text/plain": [
       "<matplotlib.legend.Legend at 0x7f06af071748>"
      ]
     },
     "execution_count": 24,
     "metadata": {},
     "output_type": "execute_result"
    },
    {
     "data": {
      "image/png": "[encoded data removed]",
      "text/plain": [
       "<Figure size 432x288 with 1 Axes>"
      ]
     },
     "metadata": {
      "needs_background": "light"
     },
     "output_type": "display_data"
    }
   ],
   "source": [
    "plt.plot(corr['gk'],label='rho_gkappa')\n",
    "plt.plot(corr['kcib'],label='rho_kappacib')\n",
    "plt.plot(corr['gcib'],label='rho_gcib')\n",
    "#plt.hlines(1,0,1000)\n",
    "plt.legend()"
   ]
  },
  {
   "cell_type": "code",
   "execution_count": 25,
   "metadata": {},
   "outputs": [],
   "source": [
    "corrnew=get_corrcoef(clgg,clcibcib,clkk-clcibk**2/clcibcib,clkg,clcibk,clcibg)"
   ]
  },
  {
   "cell_type": "code",
   "execution_count": 26,
   "metadata": {},
   "outputs": [
    {
     "data": {
      "text/plain": [
       "<matplotlib.legend.Legend at 0x7f06af02dd68>"
      ]
     },
     "execution_count": 26,
     "metadata": {},
     "output_type": "execute_result"
    },
    {
     "data": {
      "image/png": "[encoded data removed]",
      "text/plain": [
       "<Figure size 432x288 with 1 Axes>"
      ]
     },
     "metadata": {
      "needs_background": "light"
     },
     "output_type": "display_data"
    }
   ],
   "source": [
    "plt.plot(corr['gk'],label='rho_gkappa')\n",
    "plt.plot(corrnew['gk'],label='rho_gkappa cleaned')\n",
    "plt.plot(corr['kcib'],label='rho_kappacib')\n",
    "plt.plot(corrnew['gcib'],label='rho_gcib')\n",
    "plt.legend()"
   ]
  },
  {
   "cell_type": "code",
   "execution_count": 18,
   "metadata": {},
   "outputs": [
    {
     "name": "stderr",
     "output_type": "stream",
     "text": [
      "/home/r/rbond/jiaqu/.virtualenvs/myenv/lib/python3.6/site-packages/ipykernel_launcher.py:61: RuntimeWarning: invalid value encountered in sqrt\n"
     ]
    }
   ],
   "source": [
    "ellrange = np.arange(1,1000)\n",
    "l1c.generateCls(ellrange)\n",
    "bias=2\n",
    "omega_8=0.2\n",
    "clkk = l1c.getCl(\"cmb\",\"cmb\") \n",
    "clgg = l1c.getCl(\"g1\",\"g1\") \n",
    "clcibcib = l1c.getCl(\"g3\",\"g3\") \n",
    "clkg = l1c.getCl(\"cmb\",\"g1\")\n",
    "clcibg = l1c.getCl(\"g1\",\"g3\")\n",
    "clcibk = l1c.getCl(\"cmb\",\"g3\")\n",
    "\n",
    "clgg0=clgg/bias**2\n",
    "clkg0=clkg/bias\n",
    "clcibg0=clcibg/bias\n",
    "improvement=[]\n",
    "old=[]\n",
    "new=[]\n",
    "for i in range(1,1000):\n",
    "    error=compare_cleaning(clgg,clcibcib,clkk,clkg,clcibk,clcibg,bias,ellrange,cut=i,fsky=1)\n",
    "    improvement.append(error[0])\n",
    "    old.append(error[3])\n",
    "    new.append(error[4])"
   ]
  },
  {
   "cell_type": "code",
   "execution_count": 19,
   "metadata": {},
   "outputs": [
    {
     "data": {
      "text/plain": [
       "Text(0.5, 0, 'Lcut used')"
      ]
     },
     "execution_count": 19,
     "metadata": {},
     "output_type": "execute_result"
    },
    {
     "data": {
      "image/png": "[encoded data removed]",
      "text/plain": [
       "<Figure size 432x288 with 1 Axes>"
      ]
     },
     "metadata": {
      "needs_background": "light"
     },
     "output_type": "display_data"
    }
   ],
   "source": [
    "plt.plot(np.arange(1,1000),improvement)\n",
    "plt.ylabel(\"% improvement\")\n",
    "plt.xlabel(\"Lcut used\")"
   ]
  },
  {
   "cell_type": "markdown",
   "metadata": {},
   "source": [
    "## more realistic model"
   ]
  },
  {
   "cell_type": "code",
   "execution_count": 146,
   "metadata": {},
   "outputs": [],
   "source": [
    "def dndz_gauss(z,z0,sigma):\n",
    "    ans = 1/np.sqrt(2*np.pi*sigma**2)* np.exp((-(z-z0)**2)/ (2.*sigma**2.))\n",
    " \n",
    "    return ans \n"
   ]
  },
  {
   "cell_type": "code",
   "execution_count": 150,
   "metadata": {},
   "outputs": [],
   "source": [
    "z_edges = np.arange(0.,4.0,0.01)\n",
    "zcents = (z_edges[1:]+z_edges[:-1])/2.\n",
    "g1=0.5*dndz_gauss(zcents,0.4,0.2)\n",
    "g1[zcents>1]=0.\n",
    "g2=np.interp(zcents, l1c.zs, l1c.kernels['cmb']['W'])\n",
    "g3=dndz_gauss(zcents,2,0.6)\n",
    "g3[zcents<1]=0."
   ]
  },
  {
   "cell_type": "code",
   "execution_count": 151,
   "metadata": {},
   "outputs": [
    {
     "name": "stdout",
     "output_type": "stream",
     "text": [
      "('Initializing galaxy window for ', 'g1', ' ...')\n",
      "('Initializing galaxy window for ', 'g2', ' ...')\n",
      "('Initializing galaxy window for ', 'g3', ' ...')\n"
     ]
    },
    {
     "data": {
      "image/png": "[encoded data removed]",
      "text/plain": [
       "<Figure size 432x288 with 1 Axes>"
      ]
     },
     "metadata": {
      "needs_background": "light"
     },
     "output_type": "display_data"
    }
   ],
   "source": [
    "\n",
    "# Let's add this dndz to the cosmology object. By default, LimberCosmology doesn't allow you to reuse tag names, but here we force it to since this is a Python notebook!\n",
    "l1c.addNz(\"g1\",zcents,g1,bias=2,ignore_exists=True)\n",
    "l1c.addNz(\"g2\",zcents,g2,bias=1,ignore_exists=True)\n",
    "l1c.addNz(\"g3\",zcents,g3,bias=1,ignore_exists=True)\n",
    "\n",
    "# and plot the resulting lensing kernel\n",
    "\n",
    "plt.figure()\n",
    "plt.plot(l1c.zs,l1c.kernels[\"g1\"]['W'],label='galaxy')\n",
    "#plt.plot(l1c.zs,l1c.kernels[\"g2\"]['W'],label='g2')\n",
    "plt.plot(l1c.zs,l1c.kernels[\"g2\"]['W'],label='kappa')\n",
    "#plt.plot(l1c.zs,l1c.kernels[\"g3\"]['W'],label='high z tracer')\n",
    "plt.plot(l1c.zs,l1c.kernels[\"g3\"]['W'],label='high z tracer')\n",
    "\n",
    "plt.legend()\n",
    "plt.xlim(0,3)\n",
    "plt.show()"
   ]
  },
  {
   "cell_type": "code",
   "execution_count": 152,
   "metadata": {},
   "outputs": [],
   "source": [
    "ellrange = np.arange(1,1000)\n",
    "l1c.generateCls(ellrange)\n",
    "bias=2\n",
    "clkk = l1c.getCl(\"cmb\",\"cmb\") \n",
    "clgg = l1c.getCl(\"g1\",\"g1\") \n",
    "clcibcib = l1c.getCl(\"g3\",\"g3\") \n",
    "clkg = l1c.getCl(\"cmb\",\"g1\")\n",
    "clcibg = l1c.getCl(\"g1\",\"g3\")\n",
    "clcibk = l1c.getCl(\"cmb\",\"g3\")\n",
    "\n",
    "clgg0=clgg/bias**2\n",
    "clkg0=clkg/bias\n",
    "clcibg0=clcibg/bias"
   ]
  },
  {
   "cell_type": "code",
   "execution_count": 164,
   "metadata": {},
   "outputs": [],
   "source": [
    "improvement=[]\n",
    "old=[]\n",
    "new=[]\n",
    "for i in range(1,1000):\n",
    "    error=compare_cleaning(clgg,clcibcib,clkk,clkg,clcibk,clcibg,bias,ellrange,cut=i,fsky=1)\n",
    "    improvement.append(error[0])\n",
    "    old.append(error[3])\n",
    "    new.append(error[4])"
   ]
  },
  {
   "cell_type": "code",
   "execution_count": 165,
   "metadata": {},
   "outputs": [
    {
     "data": {
      "text/plain": [
       "Text(0.5, 0, 'Lcut used')"
      ]
     },
     "execution_count": 165,
     "metadata": {},
     "output_type": "execute_result"
    },
    {
     "data": {
      "image/png": "[encoded data removed]",
      "text/plain": [
       "<Figure size 432x288 with 1 Axes>"
      ]
     },
     "metadata": {
      "needs_background": "light"
     },
     "output_type": "display_data"
    }
   ],
   "source": [
    "plt.plot(np.arange(1,1000),improvement)\n",
    "plt.ylabel(\"% improvement\")\n",
    "plt.xlabel(\"Lcut used\")"
   ]
  },
  {
   "cell_type": "code",
   "execution_count": null,
   "metadata": {},
   "outputs": [],
   "source": []
  }
 ],
 "metadata": {
  "kernelspec": {
   "display_name": "myenv",
   "language": "python",
   "name": "myenv"
  },
  "language_info": {
   "codemirror_mode": {
    "name": "ipython",
    "version": 3
   },
   "file_extension": ".py",
   "mimetype": "text/x-python",
   "name": "python",
   "nbconvert_exporter": "python",
   "pygments_lexer": "ipython3",
   "version": "3.6.8"
  }
 },
 "nbformat": 4,
 "nbformat_minor": 4
}
