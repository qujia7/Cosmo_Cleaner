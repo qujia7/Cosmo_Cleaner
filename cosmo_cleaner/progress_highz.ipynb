{
 "cells": [
  {
   "cell_type": "code",
   "execution_count": 2,
   "metadata": {},
   "outputs": [],
   "source": [
    "import numpy as np\n",
    "from orphics import maps, cosmology,io,stats\n",
    "import matplotlib.pyplot as plt\n",
    "\n",
    "from scipy import optimize\n",
    "import cosmo_cleaner\n",
    "from cosmo_cleaner import fisher as fisher,plot\n",
    "import camb\n",
    "from cosmo_cleaner import cosmology\n",
    "from cosmo_cleaner import triangle_plot\n",
    "def get_corr(cross,f1,f2):\n",
    "    return np.sqrt(cross**2/(f1*f2))\n",
    "def get_der(spectra,pars,cleaned=False):\n",
    "    \"\"\"derivative function used for fisher\"\"\"\n",
    "    der_spectra_alpha = np.ones((len(list(spectra.items())[0][1]), len(spectra), len(pars)))\n",
    "    for i in range(len(pars)):\n",
    "        print(f\"Taking field derivatives wrt {pars[i]}\")\n",
    "        der=cosmology.derivative_parameter(ells,1,0.5,defaultCosmology,pars[i],delta=0.00005)\n",
    "        der_spectra_alpha[:, 0, i] = der[1][:cut]\n",
    "        der_spectra_alpha[:, 1, i] = der[0][:cut]\n",
    "        if cleaned==True:\n",
    "            der_spectra_alpha[:, 2, i] = der[-1][:cut]\n",
    "        else:\n",
    "            der_spectra_alpha[:, 2, i] = der[2][:cut]\n",
    "    return der_spectra_alpha\n"
   ]
  },
  {
   "cell_type": "markdown",
   "metadata": {},
   "source": [
    "Load the default cosmology, for the dafault calculations, we let the $k_{max}=10Mpc^{-1}$ this is used to compute the linear power spectrum."
   ]
  },
  {
   "cell_type": "code",
   "execution_count": 3,
   "metadata": {},
   "outputs": [],
   "source": [
    "defaultCosmology = {'omch2': 0.1198\n",
    "                    ,'ombh2': 0.02225\n",
    "                    ,'H0': 67.3\n",
    "                    ,'ns': 0.9645\n",
    "                    ,'As': 2.2e-9\n",
    "                    ,'mnu': 0.06\n",
    "                    ,'w0': -1.0\n",
    "                    ,'tau':0.06\n",
    "                    ,'nnu':3.046\n",
    "                    ,'wa': 0.,'bias':1,'A_l':1.,'A_e':1}\n",
    "for i in range(17):\n",
    "    defaultCosmology[f'lsst_bias{i}']=1\n",
    "\n",
    "nz = 1000\n",
    "kmax = 10\n",
    "zmin = 0.\n",
    "ells=np.arange(2000)\n",
    "\n",
    "pars = camb.CAMBparams()\n",
    "#pars.set_dark_energy(w=defaultCosmology['w0'],wa = defaultCosmology['wa'], dark_energy_model = 'ppf')\n",
    "pars.set_cosmology(H0=defaultCosmology['H0'], cosmomc_theta = None,ombh2=defaultCosmology['ombh2'], \n",
    "               omch2=defaultCosmology['omch2'], mnu=defaultCosmology['mnu'], tau = defaultCosmology['tau'],\n",
    "               nnu = defaultCosmology['nnu'], num_massive_neutrinos = 3)\n",
    "#pars.NonLinear = model.NonLinear_both\n",
    "pars.InitPower.set_params(ns=defaultCosmology['ns'],As=defaultCosmology['As'])\n",
    "\n",
    "results = camb.get_results(pars)"
   ]
  },
  {
   "cell_type": "code",
   "execution_count": 4,
   "metadata": {},
   "outputs": [],
   "source": [
    "default=cosmology.cosmology(nz,kmax,zmin,ells,defaultCosmology,pars,results)\n",
    "fiducial_cls=default.get_lsst_lensing(lenszmin=0,lmax=3000)"
   ]
  },
  {
   "cell_type": "code",
   "execution_count": 5,
   "metadata": {},
   "outputs": [
    {
     "data": {
      "text/plain": [
       "3000"
      ]
     },
     "execution_count": 5,
     "metadata": {},
     "output_type": "execute_result"
    }
   ],
   "source": [
    "len(fiducial_cls[0]['kk'])"
   ]
  },
  {
   "cell_type": "markdown",
   "metadata": {},
   "source": [
    "Plot the fiducial $C^{g_ig_i}_\\ell$ and the shot noise level with an average galaxy density of $\\bar{n}=40arcmin^{-2}$"
   ]
  },
  {
   "cell_type": "markdown",
   "metadata": {},
   "source": [
    "$n(z)=\\frac{A}{2z_0}\\Big(\\frac{z}{z_0}\\Big)^2e^{-z/z_0}$ with z_0=0.3"
   ]
  },
  {
   "cell_type": "code",
   "execution_count": 14,
   "metadata": {},
   "outputs": [],
   "source": [
    "bin_centers=[]\n",
    "for i in range(len(default.LSST_z)):\n",
    "    bin_centers.append(np.mean(default.LSST_z[i]))\n",
    "bin_centers=np.array(bin_centers)\n",
    "A=40/np.sum(default.dn_dz_LSST(bin_centers))"
   ]
  },
  {
   "cell_type": "markdown",
   "metadata": {},
   "source": [
    "calculate the normalization"
   ]
  },
  {
   "cell_type": "code",
   "execution_count": 22,
   "metadata": {},
   "outputs": [],
   "source": [
    "A=40/np.sum(default.dn_dz_LSST(bin_centers))"
   ]
  },
  {
   "cell_type": "markdown",
   "metadata": {},
   "source": [
    "calculate the number density in each bin"
   ]
  },
  {
   "cell_type": "code",
   "execution_count": 23,
   "metadata": {},
   "outputs": [
    {
     "data": {
      "text/plain": [
       "array([1.31586519e-01, 6.12109664e-01, 8.74131786e-01, 8.79930820e-01,\n",
       "       7.47220802e-01, 5.73201649e-01, 4.11092806e-01, 2.80747792e-01,\n",
       "       1.85340503e-01, 1.18871281e-01, 6.61547719e-02, 3.15645891e-02,\n",
       "       1.28551114e-02, 3.86461522e-03, 9.71842207e-04, 6.12224881e-06])"
      ]
     },
     "execution_count": 23,
     "metadata": {},
     "output_type": "execute_result"
    }
   ],
   "source": [
    "default.dn_dz_LSST(bin_centers)"
   ]
  },
  {
   "cell_type": "code",
   "execution_count": 8,
   "metadata": {},
   "outputs": [
    {
     "ename": "NameError",
     "evalue": "name 'n_i' is not defined",
     "output_type": "error",
     "traceback": [
      "\u001b[0;31m---------------------------------------------------------------------------\u001b[0m",
      "\u001b[0;31mNameError\u001b[0m                                 Traceback (most recent call last)",
      "\u001b[0;32m<ipython-input-8-059562b04851>\u001b[0m in \u001b[0;36m<module>\u001b[0;34m\u001b[0m\n\u001b[0;32m----> 1\u001b[0;31m \u001b[0mn_i\u001b[0m\u001b[0;34m[\u001b[0m\u001b[0;36m0\u001b[0m\u001b[0;34m]\u001b[0m\u001b[0;34m\u001b[0m\u001b[0;34m\u001b[0m\u001b[0m\n\u001b[0m",
      "\u001b[0;31mNameError\u001b[0m: name 'n_i' is not defined"
     ]
    }
   ],
   "source": [
    "n_i[0]"
   ]
  },
  {
   "cell_type": "code",
   "execution_count": 24,
   "metadata": {},
   "outputs": [],
   "source": [
    "n_i=A*default.dn_dz_LSST(bin_centers)"
   ]
  },
  {
   "cell_type": "markdown",
   "metadata": {},
   "source": [
    "use integral to calculate the number density instead"
   ]
  },
  {
   "cell_type": "code",
   "execution_count": 25,
   "metadata": {},
   "outputs": [],
   "source": [
    "zs=default.LSST_z"
   ]
  },
  {
   "cell_type": "code",
   "execution_count": 27,
   "metadata": {},
   "outputs": [],
   "source": [
    "n_int=[]\n",
    "for i in range(16):\n",
    "    n_int.append(40*np.trapz(default.dn_dz_LSST(zs[i]),zs[i]))\n",
    "n_int=np.array(n_int)"
   ]
  },
  {
   "cell_type": "code",
   "execution_count": 28,
   "metadata": {},
   "outputs": [
    {
     "data": {
      "text/plain": [
       "40.0"
      ]
     },
     "execution_count": 28,
     "metadata": {},
     "output_type": "execute_result"
    }
   ],
   "source": [
    "np.sum(n_i)"
   ]
  },
  {
   "cell_type": "code",
   "execution_count": 29,
   "metadata": {},
   "outputs": [
    {
     "data": {
      "text/plain": [
       "[<matplotlib.lines.Line2D at 0x2aaaeffe3e10>]"
      ]
     },
     "execution_count": 29,
     "metadata": {},
     "output_type": "execute_result"
    },
    {
     "data": {
      "image/png": "[encoded data removed]",
      "text/plain": [
       "<Figure size 432x288 with 1 Axes>"
      ]
     },
     "metadata": {
      "needs_background": "light"
     },
     "output_type": "display_data"
    }
   ],
   "source": [
    "plt.plot(n_i)\n",
    "plt.plot(n_int)"
   ]
  },
  {
   "cell_type": "code",
   "execution_count": 25,
   "metadata": {},
   "outputs": [],
   "source": [
    "noise_av=np.ones(3000)/40\n",
    "noise_av*= (np.pi/60./180.)**2 #convert from arcmin**2 to rad**2"
   ]
  },
  {
   "cell_type": "code",
   "execution_count": 27,
   "metadata": {},
   "outputs": [
    {
     "name": "stderr",
     "output_type": "stream",
     "text": [
      "/global/homes/j/jia_qu/.conda/envs/myenv/lib/python3.7/site-packages/ipykernel_launcher.py:6: UserWarning: Attempted to set non-positive left xlim on a log-scaled axis.\n",
      "Invalid limit will be ignored.\n",
      "  \n"
     ]
    },
    {
     "data": {
      "text/plain": [
       "<matplotlib.legend.Legend at 0x2aaaedbbacd0>"
      ]
     },
     "execution_count": 27,
     "metadata": {},
     "output_type": "execute_result"
    },
    {
     "data": {
      "image/png": "[encoded data removed]",
      "text/plain": [
       "<Figure size 432x288 with 1 Axes>"
      ]
     },
     "metadata": {
      "needs_background": "light"
     },
     "output_type": "display_data"
    }
   ],
   "source": [
    "plt.semilogy(fiducial_cls[0]['g0g0'],label='bin0')\n",
    "plt.loglog(fiducial_cls[0]['g1g1'],label='bin1')\n",
    "plt.loglog(fiducial_cls[0]['g2g2'],label='bin2')\n",
    "plt.loglog(fiducial_cls[0]['g3g3'],label='bin3')\n",
    "#plt.plot(noise,label='noise')\n",
    "plt.xlim(0,3000)\n",
    "plt.legend()"
   ]
  },
  {
   "cell_type": "code",
   "execution_count": null,
   "metadata": {},
   "outputs": [],
   "source": []
  },
  {
   "cell_type": "code",
   "execution_count": 28,
   "metadata": {},
   "outputs": [],
   "source": [
    "bin_centers=[]\n",
    "for i in range(len(default.LSST_z)):\n",
    "    bin_centers.append(np.mean(default.LSST_z[i]))\n",
    "bin_centers=np.array(bin_centers)"
   ]
  },
  {
   "cell_type": "code",
   "execution_count": 29,
   "metadata": {},
   "outputs": [],
   "source": [
    "ell=np.arange(len(fiducial_cls[0]['kk']))"
   ]
  },
  {
   "cell_type": "code",
   "execution_count": 30,
   "metadata": {},
   "outputs": [],
   "source": [
    "defaultCosmology = {'omch2': 0.1198\n",
    "                    ,'ombh2': 0.02225\n",
    "                    ,'H0': 67.3\n",
    "                    ,'ns': 0.9645\n",
    "                    ,'As': 2.2e-9\n",
    "                    ,'mnu': 0.06\n",
    "                    ,'w0': -1.0\n",
    "                    ,'tau':0.06\n",
    "                    ,'nnu':3.046\n",
    "                    ,'wa': 0.,'bias':1,'A_l':1,'A_e':1}"
   ]
  },
  {
   "cell_type": "code",
   "execution_count": 34,
   "metadata": {},
   "outputs": [],
   "source": [
    "from tqdm import tqdm\n",
    "pars = ['ombh2', 'omch2', 'H0',  'As', 'ns', 'tau', 'mnu']\n",
    "for i in range(16):\n",
    "    pars.append(f'lsst_bias{i}')\n",
    "#pars = ['mnu']\n",
    "Npars = len(pars)\n",
    "cut=3000\n",
    "ells=np.arange(cut)\n",
    "der_spectra_alpha = np.ones((cut, len(fiducial_cls[0]), Npars))\n",
    "\n"
   ]
  },
  {
   "cell_type": "code",
   "execution_count": 365,
   "metadata": {},
   "outputs": [
    {
     "data": {
      "text/plain": [
       "1"
      ]
     },
     "execution_count": 365,
     "metadata": {},
     "output_type": "execute_result"
    }
   ],
   "source": [
    "len(np.load(\"/global/homes/j/jia_qu/cosmo_cleaner/cosmo_cleaner/data/derivatives.npy\",allow_pickle=True))\n"
   ]
  },
  {
   "cell_type": "code",
   "execution_count": 83,
   "metadata": {},
   "outputs": [],
   "source": [
    "der=np.load(\"/global/homes/j/jia_qu/cosmo_cleaner/cosmo_cleaner/data/derivatives1new.npy\",allow_pickle=True)"
   ]
  },
  {
   "cell_type": "code",
   "execution_count": 33,
   "metadata": {},
   "outputs": [],
   "source": [
    "s4noise=np.loadtxt(\"/global/homes/j/jia_qu/cosmo_cleaner/cosmo_cleaner/data/nlkks4.txt\")"
   ]
  },
  {
   "cell_type": "code",
   "execution_count": 368,
   "metadata": {},
   "outputs": [],
   "source": [
    "a=cosmology.LSSTxlensing(fiducial_cls[0],fiducial_cls[0],der,pars,s4noise,0.4,l_min=0,l_max=2000,nbar=40)\n"
   ]
  },
  {
   "cell_type": "code",
   "execution_count": 51,
   "metadata": {},
   "outputs": [],
   "source": [
    "n=[]\n",
    "for i in range(len(n_i)):\n",
    "    n.append(np.ones(3000)*n_i[i])"
   ]
  },
  {
   "cell_type": "code",
   "execution_count": 36,
   "metadata": {},
   "outputs": [],
   "source": [
    "n_new=[]\n",
    "for i in range(len(n_int)):\n",
    "    n_new.append(np.ones(3000)*n_int[i])\n",
    "n_new=np.array(n_new)"
   ]
  },
  {
   "cell_type": "code",
   "execution_count": 9,
   "metadata": {
    "collapsed": true,
    "jupyter": {
     "outputs_hidden": true
    }
   },
   "outputs": [
    {
     "name": "stdout",
     "output_type": "stream",
     "text": [
      "({'g0g0': array([9.91214804e-05, 2.41242815e-04, 3.32696185e-04, ...,\n",
      "       7.23585721e-07, 7.22933300e-07, 7.22281728e-07]), 'g1g1': array([8.91463204e-06, 2.45593806e-05, 3.78156894e-05, ...,\n",
      "       4.15252255e-07, 4.14947093e-07, 4.14642241e-07]), 'g2g2': array([2.81132337e-06, 7.94040617e-06, 1.25847798e-05, ...,\n",
      "       3.23666961e-07, 3.23476141e-07, 3.23285489e-07]), 'g3g3': array([1.41945602e-06, 4.04398918e-06, 6.48339634e-06, ...,\n",
      "       2.62886699e-07, 2.62743657e-07, 2.62600759e-07]), 'g4g4': array([9.62800977e-07, 2.75386613e-06, 4.44035600e-06, ...,\n",
      "       2.39794926e-07, 2.39658484e-07, 2.39522201e-07]), 'g5g5': array([7.22141458e-07, 2.07011900e-06, 3.34933515e-06, ...,\n",
      "       2.24992525e-07, 2.24852740e-07, 2.24713134e-07]), 'g6g6': array([5.78342932e-07, 1.66017011e-06, 2.69201243e-06, ...,\n",
      "       2.16245151e-07, 2.16098466e-07, 2.15951977e-07]), 'g7g7': array([4.95363272e-07, 1.42325472e-06, 2.31134642e-06, ...,\n",
      "       2.16264643e-07, 2.16106715e-07, 2.15949004e-07]), 'g8g8': array([4.42773326e-07, 1.30581058e-06, 2.12296832e-06, ...,\n",
      "       2.27510026e-07, 2.27333385e-07, 2.27156990e-07]), 'g9g9': array([0.00000000e+00, 1.15146645e-06, 1.87360539e-06, ...,\n",
      "       2.26814733e-07, 2.26630241e-07, 2.26446009e-07]), 'g10g10': array([0.00000000e+00, 7.39470672e-07, 1.20409067e-06, ...,\n",
      "       1.64980475e-07, 1.64840093e-07, 1.64699909e-07]), 'g11g11': array([0.00000000e+00, 6.72588483e-07, 1.09596136e-06, ...,\n",
      "       1.73191885e-07, 1.73039000e-07, 1.72886340e-07]), 'g12g12': array([0.00000000e+00, 5.01759282e-07, 8.18050969e-07, ...,\n",
      "       1.47513360e-07, 1.47377569e-07, 1.47241966e-07]), 'g13g13': array([0.00000000e+00, 4.16456835e-07, 6.79329851e-07, ...,\n",
      "       1.41511051e-07, 1.41380254e-07, 1.41249639e-07]), 'g14g14': array([0.00000000e+00, 4.19967077e-07, 6.85364868e-07, ...,\n",
      "       1.65204893e-07, 1.65042458e-07, 1.64880319e-07]), 'g15g15': array([0.00000000e+00, 2.44951593e-07, 3.99890571e-07, ...,\n",
      "       1.10507901e-07, 1.10400080e-07, 1.10292330e-07]), 'kg0': array([9.83124095e-07, 2.20281675e-06, 2.89560609e-06, ...,\n",
      "       5.14664503e-09, 5.14197169e-09, 5.13730447e-09]), 'kg1': array([1.82341118e-07, 5.01847080e-07, 7.71898467e-07, ...,\n",
      "       8.25280651e-09, 8.24671146e-09, 8.24062265e-09]), 'kg2': array([7.47967531e-08, 2.11263804e-07, 3.34843276e-07, ...,\n",
      "       8.62275304e-09, 8.61767130e-09, 8.61259402e-09]), 'kg3': array([4.20011867e-08, 1.19667522e-07, 1.91869724e-07, ...,\n",
      "       7.81124144e-09, 7.80699099e-09, 7.80274484e-09]), 'kg4': array([2.89326979e-08, 8.27593017e-08, 1.33451754e-07, ...,\n",
      "       7.23838113e-09, 7.23425659e-09, 7.23013688e-09]), 'kg5': array([2.12758457e-08, 6.09924004e-08, 9.86879744e-08, ...,\n",
      "       6.65792983e-09, 6.65378475e-09, 6.64964498e-09]), 'kg6': array([1.63094260e-08, 4.68184705e-08, 7.59207645e-08, ...,\n",
      "       6.12326633e-09, 6.11910436e-09, 6.11494794e-09]), 'kg7': array([1.32123142e-08, 3.79617633e-08, 6.16514915e-08, ...,\n",
      "       5.79094130e-09, 5.78670476e-09, 5.78247402e-09]), 'kg8': array([1.09687229e-08, 3.25392670e-08, 5.29033859e-08, ...,\n",
      "       5.69157799e-09, 5.68715168e-09, 5.68273152e-09]), 'kg9': array([0.00000000e+00, 2.68630938e-08, 4.37111572e-08, ...,\n",
      "       5.31004682e-09, 5.30572176e-09, 5.30140280e-09]), 'kg10': array([0.00000000e+00, 2.31942711e-08, 3.77690244e-08, ...,\n",
      "       5.21320883e-09, 5.20876381e-09, 5.20432499e-09]), 'kg11': array([0.00000000e+00, 1.90295103e-08, 3.10088765e-08, ...,\n",
      "       4.93234091e-09, 4.92797633e-09, 4.92361828e-09]), 'kg12': array([0.00000000e+00, 1.60916601e-08, 2.62362593e-08, ...,\n",
      "       4.77799633e-09, 4.77359402e-09, 4.76919762e-09]), 'kg13': array([0.00000000e+00, 1.35813634e-08, 2.21549923e-08, ...,\n",
      "       4.67279341e-09, 4.66846134e-09, 4.66413570e-09]), 'kg14': array([0.00000000e+00, 1.14499758e-08, 1.86863329e-08, ...,\n",
      "       4.55420514e-09, 4.54971022e-09, 4.54522311e-09]), 'kg15': array([0.00000000e+00, 9.19270019e-09, 1.50083951e-08, ...,\n",
      "       4.27584580e-09, 4.27172274e-09, 4.26760284e-09]), 'kk': array([2.39603849e-08, 5.72993494e-08, 8.06678645e-08, ...,\n",
      "       1.89658659e-09, 1.89556950e-09, 1.89455331e-09])}, array([array([9.91214804e-05, 2.41242815e-04, 3.32696185e-04, ...,\n",
      "              7.23585721e-07, 7.22933300e-07, 7.22281728e-07])    ,\n",
      "       array([8.91463204e-06, 2.45593806e-05, 3.78156894e-05, ...,\n",
      "              4.15252255e-07, 4.14947093e-07, 4.14642241e-07])    ,\n",
      "       array([2.81132337e-06, 7.94040617e-06, 1.25847798e-05, ...,\n",
      "              3.23666961e-07, 3.23476141e-07, 3.23285489e-07])    ,\n",
      "       array([1.41945602e-06, 4.04398918e-06, 6.48339634e-06, ...,\n",
      "              2.62886699e-07, 2.62743657e-07, 2.62600759e-07])    ,\n",
      "       array([9.62800977e-07, 2.75386613e-06, 4.44035600e-06, ...,\n",
      "              2.39794926e-07, 2.39658484e-07, 2.39522201e-07])    ,\n",
      "       array([7.22141458e-07, 2.07011900e-06, 3.34933515e-06, ...,\n",
      "              2.24992525e-07, 2.24852740e-07, 2.24713134e-07])    ,\n",
      "       array([5.78342932e-07, 1.66017011e-06, 2.69201243e-06, ...,\n",
      "              2.16245151e-07, 2.16098466e-07, 2.15951977e-07])    ,\n",
      "       array([4.95363272e-07, 1.42325472e-06, 2.31134642e-06, ...,\n",
      "              2.16264643e-07, 2.16106715e-07, 2.15949004e-07])    ,\n",
      "       array([4.42773326e-07, 1.30581058e-06, 2.12296832e-06, ...,\n",
      "              2.27510026e-07, 2.27333385e-07, 2.27156990e-07])    ,\n",
      "       array([0.00000000e+00, 1.15146645e-06, 1.87360539e-06, ...,\n",
      "              2.26814733e-07, 2.26630241e-07, 2.26446009e-07])    ,\n",
      "       array([0.00000000e+00, 7.39470672e-07, 1.20409067e-06, ...,\n",
      "              1.64980475e-07, 1.64840093e-07, 1.64699909e-07])    ,\n",
      "       array([0.00000000e+00, 6.72588483e-07, 1.09596136e-06, ...,\n",
      "              1.73191885e-07, 1.73039000e-07, 1.72886340e-07])    ,\n",
      "       array([0.00000000e+00, 5.01759282e-07, 8.18050969e-07, ...,\n",
      "              1.47513360e-07, 1.47377569e-07, 1.47241966e-07])    ,\n",
      "       array([0.00000000e+00, 4.16456835e-07, 6.79329851e-07, ...,\n",
      "              1.41511051e-07, 1.41380254e-07, 1.41249639e-07])    ,\n",
      "       array([0.00000000e+00, 4.19967077e-07, 6.85364868e-07, ...,\n",
      "              1.65204893e-07, 1.65042458e-07, 1.64880319e-07])    ,\n",
      "       array([0.00000000e+00, 2.44951593e-07, 3.99890571e-07, ...,\n",
      "              1.10507901e-07, 1.10400080e-07, 1.10292330e-07])    ,\n",
      "       array([9.83124095e-07, 2.20281675e-06, 2.89560609e-06, ...,\n",
      "              5.14664503e-09, 5.14197169e-09, 5.13730447e-09])    ,\n",
      "       array([1.82341118e-07, 5.01847080e-07, 7.71898467e-07, ...,\n",
      "              8.25280651e-09, 8.24671146e-09, 8.24062265e-09])    ,\n",
      "       array([7.47967531e-08, 2.11263804e-07, 3.34843276e-07, ...,\n",
      "              8.62275304e-09, 8.61767130e-09, 8.61259402e-09])    ,\n",
      "       array([4.20011867e-08, 1.19667522e-07, 1.91869724e-07, ...,\n",
      "              7.81124144e-09, 7.80699099e-09, 7.80274484e-09])    ,\n",
      "       array([2.89326979e-08, 8.27593017e-08, 1.33451754e-07, ...,\n",
      "              7.23838113e-09, 7.23425659e-09, 7.23013688e-09])    ,\n",
      "       array([2.12758457e-08, 6.09924004e-08, 9.86879744e-08, ...,\n",
      "              6.65792983e-09, 6.65378475e-09, 6.64964498e-09])    ,\n",
      "       array([1.63094260e-08, 4.68184705e-08, 7.59207645e-08, ...,\n",
      "              6.12326633e-09, 6.11910436e-09, 6.11494794e-09])    ,\n",
      "       array([1.32123142e-08, 3.79617633e-08, 6.16514915e-08, ...,\n",
      "              5.79094130e-09, 5.78670476e-09, 5.78247402e-09])    ,\n",
      "       array([1.09687229e-08, 3.25392670e-08, 5.29033859e-08, ...,\n",
      "              5.69157799e-09, 5.68715168e-09, 5.68273152e-09])    ,\n",
      "       array([0.00000000e+00, 2.68630938e-08, 4.37111572e-08, ...,\n",
      "              5.31004682e-09, 5.30572176e-09, 5.30140280e-09])    ,\n",
      "       array([0.00000000e+00, 2.31942711e-08, 3.77690244e-08, ...,\n",
      "              5.21320883e-09, 5.20876381e-09, 5.20432499e-09])    ,\n",
      "       array([0.00000000e+00, 1.90295103e-08, 3.10088765e-08, ...,\n",
      "              4.93234091e-09, 4.92797633e-09, 4.92361828e-09])    ,\n",
      "       array([0.00000000e+00, 1.60916601e-08, 2.62362593e-08, ...,\n",
      "              4.77799633e-09, 4.77359402e-09, 4.76919762e-09])    ,\n",
      "       array([0.00000000e+00, 1.35813634e-08, 2.21549923e-08, ...,\n",
      "              4.67279341e-09, 4.66846134e-09, 4.66413570e-09])    ,\n",
      "       array([0.00000000e+00, 1.14499758e-08, 1.86863329e-08, ...,\n",
      "              4.55420514e-09, 4.54971022e-09, 4.54522311e-09])    ,\n",
      "       array([0.00000000e+00, 9.19270019e-09, 1.50083951e-08, ...,\n",
      "              4.27584580e-09, 4.27172274e-09, 4.26760284e-09])    ,\n",
      "       array([2.39603849e-08, 5.72993494e-08, 8.06678645e-08, ...,\n",
      "              1.89658659e-09, 1.89556950e-09, 1.89455331e-09])    ],\n",
      "      dtype=object))\n",
      "0\n",
      "1\n",
      "2\n",
      "3\n",
      "4\n",
      "5\n",
      "6\n",
      "7\n",
      "8\n",
      "9\n",
      "10\n",
      "11\n",
      "12\n",
      "13\n",
      "14\n",
      "15\n",
      "16\n",
      "17\n",
      "18\n",
      "19\n",
      "20\n",
      "21\n",
      "22\n"
     ]
    }
   ],
   "source": [
    "defaultCosmology = {'omch2': 0.1198\n",
    "                    ,'ombh2': 0.02225\n",
    "                    ,'H0': 67.3\n",
    "                    ,'ns': 0.9645\n",
    "                    ,'As': 2.2e-9\n",
    "                    ,'mnu': 0.06\n",
    "                    ,'w0': -1.0\n",
    "                    ,'tau':0.06\n",
    "                    ,'nnu':3.046\n",
    "                    ,'wa': 0.,'bias':1,'A_l':1,'A_e':1}\n",
    "for i in range(17):\n",
    "    defaultCosmology[f'lsst_bias{i}']=1\n",
    "\n",
    "nz = 1000\n",
    "kmax = 10\n",
    "zmin = 0.\n",
    "ells=np.arange(2000)\n",
    "\n",
    "pars = camb.CAMBparams()\n",
    "#pars.set_dark_energy(w=defaultCosmology['w0'],wa = defaultCosmology['wa'], dark_energy_model = 'ppf')\n",
    "pars.set_cosmology(H0=defaultCosmology['H0'], cosmomc_theta = None,ombh2=defaultCosmology['ombh2'], \n",
    "               omch2=defaultCosmology['omch2'], mnu=defaultCosmology['mnu'], tau = defaultCosmology['tau'],\n",
    "               nnu = defaultCosmology['nnu'], num_massive_neutrinos = 3)\n",
    "#pars.NonLinear = model.NonLinear_both\n",
    "pars.InitPower.set_params(ns=defaultCosmology['ns'],As=defaultCosmology['As'])\n",
    "\n",
    "results = camb.get_results(pars)\n",
    "\n",
    "\n",
    "default=cosmology.cosmology(nz,kmax,zmin,ells,defaultCosmology,pars,results)\n",
    "fiducial_cls=default.get_lsst_lensing(lenszmin=0)\n",
    "\n",
    "print(fiducial_cls)\n",
    "from tqdm import tqdm\n",
    "pars = ['ombh2', 'omch2', 'H0',  'As', 'ns', 'tau', 'mnu']\n",
    "for i in range(16):\n",
    "    pars.append(f'lsst_bias{i}')\n",
    "Npars = len(pars)\n",
    "\n",
    "\n",
    "\n",
    "\n",
    "#take the derivatives of spectra over the parameters\n",
    "Npars=23\n",
    "derivative=[]\n",
    "left_steps = [0.0008, 0.003,   0.2,   0.01e-9, 0.005, 0.02, 0.0]\n",
    "right_steps = [0.0008, 0.003,   0.2,   0.01e-9, 0.005, 0.02, 0.02]\n",
    "for i in range(16):\n",
    "    left_steps.append(0.01)\n",
    "    right_steps.append(0.01)\n",
    "deltas=[]\n",
    "for i in range(len(left_steps)):\n",
    "    deltas.append((left_steps[i],right_steps[i]))\n",
    "\n",
    "for task in range(Npars):\n",
    "    print(task)\n",
    "    der=cosmology.LSST_derivative_parameter(defaultCosmology,pars[task],deltas[task],kmax=kmax)\n",
    "    derivative.append(der)\n",
    "#np.save(\"/global/homes/j/jia_qu/cosmo_cleaner/cosmo_cleaner/data/derivatives1.npy\",derivative1)\n",
    "derdict=[]\n",
    "\n"
   ]
  },
  {
   "cell_type": "code",
   "execution_count": 10,
   "metadata": {},
   "outputs": [],
   "source": [
    "np.save(\"/global/homes/j/jia_qu/cosmo_cleaner/cosmo_cleaner/data/derivatives110421.npy\",derivative)\n"
   ]
  },
  {
   "cell_type": "code",
   "execution_count": 34,
   "metadata": {},
   "outputs": [],
   "source": [
    "import itertools\n",
    "class LSSTxlensing():\n",
    "    \"\"\"\n",
    "    Class for computing Fisher matrices from LSSTxlensing.\n",
    "\n",
    "    \"\"\"\n",
    "\n",
    "    def __init__(self, fid,spectra,der_spectra,pars,lensingnoise,lbmax,n,f_sky=0.65, l_min=10, l_max=1000):\n",
    "        self.f_sky = f_sky\n",
    "        self.spectra=spectra\n",
    "        self.der_spectra=der_spectra\n",
    "        self.fid=fid\n",
    "        self.pars=pars\n",
    "        self.Npars=len(self.pars)\n",
    "        self.ells = np.arange(l_min,l_max)\n",
    "        self.l_min = l_min\n",
    "        self.l_max = l_max\n",
    "        self.shotnoise=1/n\n",
    "        #convert shotnoise from arcmin^2 to rad^2\n",
    "        self.shotnoise*= (np.pi/60./180.)**2\n",
    "        self.noise_list=[]\n",
    "        self.cross_noise=[]\n",
    "        self.lbmax=lbmax\n",
    "        for i in range(16):\n",
    "            noise=self.shotnoise[i].copy()\n",
    "            crossnoise=np.zeros(3000)\n",
    "            noise[int(lbmax[i]):]=1e100\n",
    "            crossnoise[int(lbmax[i]):]=1e100\n",
    "            self.noise_list.append(noise)\n",
    "            self.cross_noise.append(crossnoise)\n",
    "        self.lensingnoise=lensingnoise\n",
    "\n",
    "\n",
    "    def get_modes(self):\n",
    "        deltaL=np.zeros(len(self.ells))\n",
    "        deltaL[0]=self.ells[0]-0\n",
    "        deltaL[1:]=self.ells[1:]-self.ells[:-1] \n",
    "        result = (2*self.ells*deltaL*self.f_sky)\n",
    "        return 1/result\n",
    "\n",
    "    def get_Cl(self,X,Y):\n",
    "        \"\"\"X:g,k\n",
    "           Y:gi,g\n",
    "        \"\"\"\n",
    "        kappa_noise=(self.lensingnoise[self.l_min:self.l_max]+self.fid[f'kk'][self.l_min:self.l_max])*np.sqrt(self.get_modes())\n",
    "        if X+Y in [f'g{i}g{i}' for i in range(16)]:\n",
    "            j=int(X[1])\n",
    "            Cl=self.fid[f'{X+Y}'][self.l_min:self.l_max]+self.noise_list[j][self.l_min:self.l_max]\n",
    "        elif Y+X in [f'g{i}g{i}' for i in range(16)]:\n",
    "            j=int(X[1])\n",
    "            Cl=self.fid[f'{Y+X}'][self.l_min:self.l_max]+self.noise_list[j][self.l_min:self.l_max]\n",
    "        elif X+Y in [f'kg{i}' for i in range(16)]:\n",
    "            j=int(Y[1])\n",
    "            Cl=self.fid[f'{X+Y}'][self.l_min:self.l_max]\n",
    "            Cl=self.fid[f'{X+Y}'][self.l_min:self.l_max]+self.cross_noise[j][self.l_min:self.l_max]\n",
    "        elif Y+X in [f'kg{i}' for i in range(16)]:\n",
    "            j=int(X[1])\n",
    "            Cl=self.fid[f'{Y+X}'][self.l_min:self.l_max]\n",
    "            Cl=self.fid[f'{Y+X}'][self.l_min:self.l_max]+self.cross_noise[j][self.l_min:self.l_max]\n",
    "        elif X+Y in ['kk']:\n",
    "            Cl=self.fid[f'kk'][self.l_min:self.l_max]+kappa_noise[self.l_min:self.l_max]\n",
    "        else:\n",
    "            #print(\"cross cls not present\")\n",
    "            Cl=np.ones(len(self.ells))*0\n",
    "        return Cl\n",
    "\n",
    "    def get_derCl(self,der,X,Y):\n",
    "        \"\"\"X:g,k\n",
    "           Y:gi,g\n",
    "        \"\"\"\n",
    "        if X+Y in [f'g{i}g{i}' for i in range(16)]:\n",
    "            j=int(X[1])\n",
    "            Cl=der[f'{X+Y}']\n",
    "            Cl[int(self.lbmax[j]):]=0.\n",
    "            Cl=Cl[self.l_min:self.l_max]\n",
    "            #Cl=der[f'{X+Y}'][self.l_min:self.l_max]\n",
    "        \n",
    "        elif Y+X in [f'g{i}g{i}' for i in range(16)]:\n",
    "            j=int(X[1])\n",
    "            Cl=der[f'{Y+X}']\n",
    "            Cl[int(self.lbmax[j]):]=0.\n",
    "            Cl=Cl[self.l_min:self.l_max]\n",
    "            \n",
    "            #Cl=der[f'{Y+X}'][self.l_min:self.l_max]\n",
    "        elif X+Y in [f'kg{i}' for i in range(16)]:\n",
    "            j=int(Y[1])\n",
    "            Cl=der[f'{X+Y}']\n",
    "            Cl[int(self.lbmax[j]):]=0.\n",
    "            Cl=Cl[self.l_min:self.l_max]           \n",
    "            #Cl=der[f'{X+Y}'][self.l_min:self.l_max]\n",
    "        elif Y+X in [f'kg{i}' for i in range(16)]:\n",
    "            j=int(X[1])\n",
    "            Cl=der[f'{Y+X}']\n",
    "            Cl[int(self.lbmax[j]):]=0.\n",
    "            Cl=Cl[self.l_min:self.l_max] \n",
    "            #Cl=der[f'{Y+X}'][self.l_min:self.l_max]\n",
    "        elif X+Y in ['kk']:\n",
    "            Cl=der[f'kk'][self.l_min:self.l_max]\n",
    "        else:\n",
    "            Cl=np.ones(len(self.ells))*0\n",
    "        return Cl\n",
    "\n",
    "    def get_cov(self,X,Y,W,Z):\n",
    "            return self.get_modes()*(self.get_Cl(X,W)*self.get_Cl(Y,Z)+self.get_Cl(X,Z)*self.get_Cl(Y,W))\n",
    "\n",
    "    \n",
    "    def get_covmatnew(self):\n",
    "        \"\"\"use this one\"\"\"\n",
    "        lista = [f'g{i}' for i in range(16)]\n",
    "        lista.append('k')\n",
    "        allcombs = list(itertools.combinations_with_replacement(lista, 2))\n",
    "        self.covmat=np.zeros((len(self.ells),len(allcombs),len(allcombs)))\n",
    "        self.cov_dict = {}\n",
    "        for cA in allcombs:\n",
    "            for cB in allcombs:\n",
    "                a, b = cA\n",
    "                c, d = cB\n",
    "                i, j = allcombs.index(cA), allcombs.index(cB)\n",
    "                self.covmat[:,i,j]=self.get_cov(a, b, c, d)\n",
    "                self.cov_dict[a+b+c+d]= self.covmat[:,i,j]\n",
    "        return self.covmat\n",
    "    \n",
    "    def prepare_derivatives(self):\n",
    "        lista = [f'g{i}' for i in range(16)]\n",
    "        lista.append('k')\n",
    "        allcombs = list(itertools.combinations_with_replacement(lista, 2))\n",
    "        der_spectra_alpha = np.ones((len(self.ells), len(allcombs), self.Npars))\n",
    "        for i in range(self.Npars):\n",
    "            for cA in allcombs:\n",
    "                    a, b = cA\n",
    "                    ind= allcombs.index(cA)\n",
    "                    der_spectra_alpha[:,ind,i]=self.get_derCl(self.der_spectra[i],a,b)\n",
    "        return der_spectra_alpha\n",
    "    \n",
    "    \n",
    "    def get_fisher(self):\n",
    "        lista = [f'g{i}' for i in range(16)]\n",
    "        lista.append('k')\n",
    "        allcombs = list(itertools.combinations_with_replacement(lista, 2))     \n",
    "        #derivatives check shape (ells,len(spectra),len(pars))\n",
    "        derivatives=self.prepare_derivatives()\n",
    "        assert(derivatives.shape[0] == len(self.ells)) \n",
    "        assert(derivatives.shape[1] == len(allcombs)) \n",
    "        assert(derivatives.shape[2] == self.Npars)\n",
    "        fisher_per_mode = np.einsum('...ik, ...ij, ...jm -> ...km',derivatives, np.nan_to_num(np.linalg.inv(self.get_covmatnew())), derivatives)\n",
    "        self.fisher_per_mode=fisher_per_mode\n",
    "        self.error_per_mode_non_marginalized = np.nan_to_num(np.diagonal(fisher_per_mode,axis1 = 1, axis2 = 2)**-0.5)\n",
    "        self.fisher=np.sum(self.fisher_per_mode,axis=0)\n",
    "        return self.fisher"
   ]
  },
  {
   "cell_type": "code",
   "execution_count": 1,
   "metadata": {},
   "outputs": [
    {
     "ename": "NameError",
     "evalue": "name 'np' is not defined",
     "output_type": "error",
     "traceback": [
      "\u001b[0;31m---------------------------------------------------------------------------\u001b[0m",
      "\u001b[0;31mNameError\u001b[0m                                 Traceback (most recent call last)",
      "\u001b[0;32m<ipython-input-1-a331acfb9070>\u001b[0m in \u001b[0;36m<module>\u001b[0;34m\u001b[0m\n\u001b[0;32m----> 1\u001b[0;31m \u001b[0mder\u001b[0m\u001b[0;34m=\u001b[0m\u001b[0mnp\u001b[0m\u001b[0;34m.\u001b[0m\u001b[0mload\u001b[0m\u001b[0;34m(\u001b[0m\u001b[0;34m\"/global/homes/j/jia_qu/cosmo_cleaner/cosmo_cleaner/data/derivatives110421.npy\"\u001b[0m \u001b[0;34m,\u001b[0m\u001b[0mallow_pickle\u001b[0m\u001b[0;34m=\u001b[0m\u001b[0;32mTrue\u001b[0m\u001b[0;34m)\u001b[0m\u001b[0;34m\u001b[0m\u001b[0;34m\u001b[0m\u001b[0m\n\u001b[0m\u001b[1;32m      2\u001b[0m \u001b[0;34m\u001b[0m\u001b[0m\n",
      "\u001b[0;31mNameError\u001b[0m: name 'np' is not defined"
     ]
    }
   ],
   "source": [
    "der=np.load(\"/global/homes/j/jia_qu/cosmo_cleaner/cosmo_cleaner/data/derivatives110421.npy\" ,allow_pickle=True)\n",
    "\n"
   ]
  },
  {
   "cell_type": "code",
   "execution_count": 57,
   "metadata": {},
   "outputs": [
    {
     "name": "stdout",
     "output_type": "stream",
     "text": [
      "2000\n",
      "2000\n",
      "2000\n",
      "2000\n",
      "2000\n",
      "2000\n",
      "2000\n",
      "2000\n",
      "2000\n",
      "2000\n",
      "2000\n",
      "2000\n",
      "2000\n",
      "2000\n",
      "2000\n",
      "2000\n",
      "2000\n",
      "2000\n",
      "2000\n",
      "2000\n",
      "2000\n",
      "2000\n",
      "2000\n",
      "2000\n",
      "2000\n",
      "2000\n",
      "2000\n",
      "2000\n",
      "2000\n",
      "2000\n",
      "2000\n",
      "2000\n",
      "3000\n"
     ]
    }
   ],
   "source": [
    "for i in range(len(der[0])):\n",
    "    print(len(der[0][i]))"
   ]
  },
  {
   "cell_type": "code",
   "execution_count": 17,
   "metadata": {},
   "outputs": [],
   "source": [
    "derdict=[]\n",
    "\n",
    "for i in range(len(der)):\n",
    "    derdict.append(cosmology.arraytodict(der[i]))"
   ]
  },
  {
   "cell_type": "code",
   "execution_count": null,
   "metadata": {},
   "outputs": [],
   "source": []
  },
  {
   "cell_type": "code",
   "execution_count": 18,
   "metadata": {},
   "outputs": [],
   "source": [
    "derold=np.load(\"/global/homes/j/jia_qu/cosmo_cleaner/cosmo_cleaner/data/derivatives1new.npy\",allow_pickle=True)"
   ]
  },
  {
   "cell_type": "code",
   "execution_count": 19,
   "metadata": {},
   "outputs": [
    {
     "data": {
      "text/plain": [
       "array([-0.00889056, -0.02381941, -0.0355239 , ..., -0.0006365 ,\n",
       "       -0.000636  , -0.00063551])"
      ]
     },
     "execution_count": 19,
     "metadata": {},
     "output_type": "execute_result"
    }
   ],
   "source": [
    "derold[0]['g1g1']"
   ]
  },
  {
   "cell_type": "code",
   "execution_count": 20,
   "metadata": {},
   "outputs": [
    {
     "data": {
      "text/plain": [
       "array([-1.97815009e-04, -5.29981766e-04, -7.90406845e-04, ...,\n",
       "       -1.41621919e-05, -1.41511046e-05, -1.41400295e-05])"
      ]
     },
     "execution_count": 20,
     "metadata": {},
     "output_type": "execute_result"
    }
   ],
   "source": [
    "derdict[0]['g1g1']"
   ]
  },
  {
   "cell_type": "code",
   "execution_count": 95,
   "metadata": {},
   "outputs": [
    {
     "data": {
      "text/plain": [
       "array([-0.06120974, -0.14027266, -0.18498821, ...,  0.        ,\n",
       "        0.        ,  0.        ])"
      ]
     },
     "execution_count": 95,
     "metadata": {},
     "output_type": "execute_result"
    }
   ],
   "source": [
    "der[0]['g0g0']"
   ]
  },
  {
   "cell_type": "code",
   "execution_count": 38,
   "metadata": {},
   "outputs": [],
   "source": [
    "pars = ['ombh2', 'omch2', 'H0',  'As', 'ns', 'tau', 'mnu']\n",
    "for i in range(16):\n",
    "    pars.append(f'lsst_bias{i}')\n",
    "Npars = len(pars)\n",
    "\n",
    "\n",
    "\n",
    "\n",
    "#take the derivatives of spectra over the parameters\n",
    "Npars=23\n",
    "derivative=[]\n",
    "left_steps = [0.0008, 0.003,   0.2,   0.01e-9, 0.005, 0.02, 0.0]\n",
    "right_steps = [0.0008, 0.003,   0.2,   0.01e-9, 0.005, 0.02, 0.02]\n",
    "for i in range(16):\n",
    "    left_steps.append(0.01)\n",
    "    right_steps.append(0.01)\n",
    "deltas=[]\n",
    "for i in range(len(left_steps)):\n",
    "    deltas.append((left_steps[i],right_steps[i]))\n"
   ]
  },
  {
   "cell_type": "code",
   "execution_count": 50,
   "metadata": {},
   "outputs": [],
   "source": [
    "a=LSSTxlensing(fiducial_cls[0],fiducial_cls[0],derdict,pars,s4noise,0.05*default.results.comoving_radial_distance(bin_centers),n_new\n",
    ",f_sky=0.4,l_min=0,l_max=3000)\n",
    "\n",
    "\n",
    "\n"
   ]
  },
  {
   "cell_type": "code",
   "execution_count": 51,
   "metadata": {},
   "outputs": [
    {
     "ename": "ValueError",
     "evalue": "could not broadcast input array from shape (2000,) into shape (3000,)",
     "output_type": "error",
     "traceback": [
      "\u001b[0;31m---------------------------------------------------------------------------\u001b[0m",
      "\u001b[0;31mValueError\u001b[0m                                Traceback (most recent call last)",
      "\u001b[0;32m<ipython-input-51-b3f68f40cc8d>\u001b[0m in \u001b[0;36m<module>\u001b[0;34m\u001b[0m\n\u001b[0;32m----> 1\u001b[0;31m \u001b[0mfisher\u001b[0m\u001b[0;34m=\u001b[0m\u001b[0ma\u001b[0m\u001b[0;34m.\u001b[0m\u001b[0mget_fisher\u001b[0m\u001b[0;34m(\u001b[0m\u001b[0;34m)\u001b[0m\u001b[0;34m\u001b[0m\u001b[0;34m\u001b[0m\u001b[0m\n\u001b[0m\u001b[1;32m      2\u001b[0m \u001b[0mcov\u001b[0m\u001b[0;34m=\u001b[0m\u001b[0mnp\u001b[0m\u001b[0;34m.\u001b[0m\u001b[0mlinalg\u001b[0m\u001b[0;34m.\u001b[0m\u001b[0minv\u001b[0m\u001b[0;34m(\u001b[0m\u001b[0mfisher\u001b[0m\u001b[0;34m)\u001b[0m\u001b[0;34m\u001b[0m\u001b[0;34m\u001b[0m\u001b[0m\n",
      "\u001b[0;32m<ipython-input-34-9ba11b04a63f>\u001b[0m in \u001b[0;36mget_fisher\u001b[0;34m(self)\u001b[0m\n\u001b[1;32m    139\u001b[0m         \u001b[0mallcombs\u001b[0m \u001b[0;34m=\u001b[0m \u001b[0mlist\u001b[0m\u001b[0;34m(\u001b[0m\u001b[0mitertools\u001b[0m\u001b[0;34m.\u001b[0m\u001b[0mcombinations_with_replacement\u001b[0m\u001b[0;34m(\u001b[0m\u001b[0mlista\u001b[0m\u001b[0;34m,\u001b[0m \u001b[0;36m2\u001b[0m\u001b[0;34m)\u001b[0m\u001b[0;34m)\u001b[0m\u001b[0;34m\u001b[0m\u001b[0;34m\u001b[0m\u001b[0m\n\u001b[1;32m    140\u001b[0m         \u001b[0;31m#derivatives check shape (ells,len(spectra),len(pars))\u001b[0m\u001b[0;34m\u001b[0m\u001b[0;34m\u001b[0m\u001b[0;34m\u001b[0m\u001b[0m\n\u001b[0;32m--> 141\u001b[0;31m         \u001b[0mderivatives\u001b[0m\u001b[0;34m=\u001b[0m\u001b[0mself\u001b[0m\u001b[0;34m.\u001b[0m\u001b[0mprepare_derivatives\u001b[0m\u001b[0;34m(\u001b[0m\u001b[0;34m)\u001b[0m\u001b[0;34m\u001b[0m\u001b[0;34m\u001b[0m\u001b[0m\n\u001b[0m\u001b[1;32m    142\u001b[0m         \u001b[0;32massert\u001b[0m\u001b[0;34m(\u001b[0m\u001b[0mderivatives\u001b[0m\u001b[0;34m.\u001b[0m\u001b[0mshape\u001b[0m\u001b[0;34m[\u001b[0m\u001b[0;36m0\u001b[0m\u001b[0;34m]\u001b[0m \u001b[0;34m==\u001b[0m \u001b[0mlen\u001b[0m\u001b[0;34m(\u001b[0m\u001b[0mself\u001b[0m\u001b[0;34m.\u001b[0m\u001b[0mells\u001b[0m\u001b[0;34m)\u001b[0m\u001b[0;34m)\u001b[0m\u001b[0;34m\u001b[0m\u001b[0;34m\u001b[0m\u001b[0m\n\u001b[1;32m    143\u001b[0m         \u001b[0;32massert\u001b[0m\u001b[0;34m(\u001b[0m\u001b[0mderivatives\u001b[0m\u001b[0;34m.\u001b[0m\u001b[0mshape\u001b[0m\u001b[0;34m[\u001b[0m\u001b[0;36m1\u001b[0m\u001b[0;34m]\u001b[0m \u001b[0;34m==\u001b[0m \u001b[0mlen\u001b[0m\u001b[0;34m(\u001b[0m\u001b[0mallcombs\u001b[0m\u001b[0;34m)\u001b[0m\u001b[0;34m)\u001b[0m\u001b[0;34m\u001b[0m\u001b[0;34m\u001b[0m\u001b[0m\n",
      "\u001b[0;32m<ipython-input-34-9ba11b04a63f>\u001b[0m in \u001b[0;36mprepare_derivatives\u001b[0;34m(self)\u001b[0m\n\u001b[1;32m    130\u001b[0m                     \u001b[0ma\u001b[0m\u001b[0;34m,\u001b[0m \u001b[0mb\u001b[0m \u001b[0;34m=\u001b[0m \u001b[0mcA\u001b[0m\u001b[0;34m\u001b[0m\u001b[0;34m\u001b[0m\u001b[0m\n\u001b[1;32m    131\u001b[0m                     \u001b[0mind\u001b[0m\u001b[0;34m=\u001b[0m \u001b[0mallcombs\u001b[0m\u001b[0;34m.\u001b[0m\u001b[0mindex\u001b[0m\u001b[0;34m(\u001b[0m\u001b[0mcA\u001b[0m\u001b[0;34m)\u001b[0m\u001b[0;34m\u001b[0m\u001b[0;34m\u001b[0m\u001b[0m\n\u001b[0;32m--> 132\u001b[0;31m                     \u001b[0mder_spectra_alpha\u001b[0m\u001b[0;34m[\u001b[0m\u001b[0;34m:\u001b[0m\u001b[0;34m,\u001b[0m\u001b[0mind\u001b[0m\u001b[0;34m,\u001b[0m\u001b[0mi\u001b[0m\u001b[0;34m]\u001b[0m\u001b[0;34m=\u001b[0m\u001b[0mself\u001b[0m\u001b[0;34m.\u001b[0m\u001b[0mget_derCl\u001b[0m\u001b[0;34m(\u001b[0m\u001b[0mself\u001b[0m\u001b[0;34m.\u001b[0m\u001b[0mder_spectra\u001b[0m\u001b[0;34m[\u001b[0m\u001b[0mi\u001b[0m\u001b[0;34m]\u001b[0m\u001b[0;34m,\u001b[0m\u001b[0ma\u001b[0m\u001b[0;34m,\u001b[0m\u001b[0mb\u001b[0m\u001b[0;34m)\u001b[0m\u001b[0;34m\u001b[0m\u001b[0;34m\u001b[0m\u001b[0m\n\u001b[0m\u001b[1;32m    133\u001b[0m         \u001b[0;32mreturn\u001b[0m \u001b[0mder_spectra_alpha\u001b[0m\u001b[0;34m\u001b[0m\u001b[0;34m\u001b[0m\u001b[0m\n\u001b[1;32m    134\u001b[0m \u001b[0;34m\u001b[0m\u001b[0m\n",
      "\u001b[0;31mValueError\u001b[0m: could not broadcast input array from shape (2000,) into shape (3000,)"
     ]
    }
   ],
   "source": [
    "fisher=a.get_fisher()\n",
    "cov=np.linalg.inv(fisher)"
   ]
  },
  {
   "cell_type": "code",
   "execution_count": 52,
   "metadata": {},
   "outputs": [
    {
     "data": {
      "text/plain": [
       "array([8.65542675e-03, 3.01875106e-02, 7.17907282e+00, 9.14053321e-09,\n",
       "       1.12341255e-01, 3.21755949e+02, 3.42453382e-01, 2.08685954e+00,\n",
       "       2.08238275e+00, 2.12858491e+00, 2.12177840e+00, 2.14805336e+00,\n",
       "       2.12919839e+00, 2.12343511e+00, 2.10066554e+00, 2.19999627e+00,\n",
       "       2.16945916e+00, 2.20534676e+00, 2.11413016e+00, 2.10261906e+00,\n",
       "       2.20224010e+00, 2.23174697e+00, 2.16987073e+00])"
      ]
     },
     "execution_count": 52,
     "metadata": {},
     "output_type": "execute_result"
    }
   ],
   "source": [
    "(np.diag(cov)**0.5)"
   ]
  },
  {
   "cell_type": "code",
   "execution_count": 53,
   "metadata": {},
   "outputs": [
    {
     "data": {
      "text/plain": [
       "342.45338189507754"
      ]
     },
     "execution_count": 53,
     "metadata": {},
     "output_type": "execute_result"
    }
   ],
   "source": [
    "(np.diag(cov)**0.5)[6]*1000"
   ]
  },
  {
   "cell_type": "code",
   "execution_count": null,
   "metadata": {},
   "outputs": [],
   "source": [
    "309.38158682499534\n"
   ]
  },
  {
   "cell_type": "code",
   "execution_count": 158,
   "metadata": {},
   "outputs": [
    {
     "data": {
      "text/plain": [
       "(66.592961,)"
      ]
     },
     "execution_count": 158,
     "metadata": {},
     "output_type": "execute_result"
    }
   ],
   "source": [
    "6.65929610e+01,"
   ]
  },
  {
   "cell_type": "code",
   "execution_count": 406,
   "metadata": {},
   "outputs": [],
   "source": [
    "parameters=['H0','ombh2','omch2','ns','As','tau','mnu']\n",
    "fiducial=[67.3,0.02225,0.1198,0.9645,2.2e-9,0.06,0.06]"
   ]
  },
  {
   "cell_type": "code",
   "execution_count": 407,
   "metadata": {},
   "outputs": [],
   "source": [
    "b=[307,176,107,84,79]\n",
    "f=[215,105,51,28.5,22.87]\n",
    "f0=[445,267,179,175,171.7]"
   ]
  },
  {
   "cell_type": "code",
   "execution_count": 408,
   "metadata": {
    "jupyter": {
     "source_hidden": true
    }
   },
   "outputs": [
    {
     "data": {
      "text/plain": [
       "[<matplotlib.lines.Line2D at 0x2aaaf84d9550>]"
      ]
     },
     "execution_count": 408,
     "metadata": {},
     "output_type": "execute_result"
    },
    {
     "data": {
      "image/png": "[encoded data removed]",
      "text/plain": [
       "<Figure size 432x288 with 1 Axes>"
      ]
     },
     "metadata": {
      "needs_background": "light"
     },
     "output_type": "display_data"
    }
   ],
   "source": [
    "plt.plot(np.array(b)*1.5)\n",
    "plt.plot(np.array(f)*1.5)\n",
    "plt.plot(np.array(f0))"
   ]
  },
  {
   "cell_type": "code",
   "execution_count": 77,
   "metadata": {
    "collapsed": true,
    "jupyter": {
     "outputs_hidden": true
    }
   },
   "outputs": [
    {
     "data": {
      "text/plain": [
       "(0.0003211400849545571, 6.002705742378891e-06, -4.3240907005618144e-11)"
      ]
     },
     "execution_count": 77,
     "metadata": {},
     "output_type": "execute_result"
    },
    {
     "data": {
      "image/png": "[encoded data removed]",
      "text/plain": [
       "<Figure size 720x576 with 1 Axes>"
      ]
     },
     "metadata": {
      "needs_background": "light"
     },
     "output_type": "display_data"
    }
   ],
   "source": [
    "single_fig, single_ax = plt.subplots(figsize=(10,8))\n",
    "triangle_plot.plot_ellipse(single_ax, 'mnu', 'omch2', parameters, fiducial,cov,kwargs1={'ls': '-'}, one_sigma_only=True)\n"
   ]
  },
  {
   "cell_type": "code",
   "execution_count": 3,
   "metadata": {},
   "outputs": [],
   "source": [
    "deep6_file_name = \"/global/cscratch1/sd/jia_qu/maps/newdata/stage_auto/kappalmsTT_lmin600_lmax3000_alm.fits\""
   ]
  },
  {
   "cell_type": "code",
   "execution_count": null,
   "metadata": {},
   "outputs": [],
   "source": [
    "from pixell import endmp"
   ]
  },
  {
   "cell_type": "code",
   "execution_count": 72,
   "metadata": {},
   "outputs": [
    {
     "ename": "NameError",
     "evalue": "name 'parameters' is not defined",
     "output_type": "error",
     "traceback": [
      "\u001b[0;31m---------------------------------------------------------------------------\u001b[0m",
      "\u001b[0;31mNameError\u001b[0m                                 Traceback (most recent call last)",
      "\u001b[0;32m<ipython-input-72-a75a42164b75>\u001b[0m in \u001b[0;36m<module>\u001b[0;34m\u001b[0m\n\u001b[0;32m----> 1\u001b[0;31m \u001b[0mfig\u001b[0m\u001b[0;34m,\u001b[0m \u001b[0maxes\u001b[0m \u001b[0;34m=\u001b[0m \u001b[0mtriangle_plot\u001b[0m\u001b[0;34m.\u001b[0m\u001b[0mplot_triangle_base\u001b[0m\u001b[0;34m(\u001b[0m\u001b[0mparameters\u001b[0m\u001b[0;34m,\u001b[0m\u001b[0mfiducial\u001b[0m\u001b[0;34m,\u001b[0m\u001b[0mcov\u001b[0m \u001b[0;34m,\u001b[0m \u001b[0mone_sigma_only\u001b[0m\u001b[0;34m=\u001b[0m\u001b[0;32mTrue\u001b[0m\u001b[0;34m,\u001b[0m\u001b[0mcolor_1d\u001b[0m\u001b[0;34m=\u001b[0m\u001b[0;34m'red'\u001b[0m\u001b[0;34m,\u001b[0m\u001b[0mellipse_kwargs1\u001b[0m\u001b[0;34m=\u001b[0m\u001b[0;34m{\u001b[0m\u001b[0;34m'ls'\u001b[0m\u001b[0;34m:\u001b[0m \u001b[0;34m'-'\u001b[0m\u001b[0;34m,\u001b[0m \u001b[0;34m'edgecolor'\u001b[0m\u001b[0;34m:\u001b[0m \u001b[0;34m'red'\u001b[0m\u001b[0;34m}\u001b[0m\u001b[0;34m)\u001b[0m\u001b[0;34m\u001b[0m\u001b[0;34m\u001b[0m\u001b[0m\n\u001b[0m\u001b[1;32m      2\u001b[0m \u001b[0mplt\u001b[0m\u001b[0;34m.\u001b[0m\u001b[0msavefig\u001b[0m\u001b[0;34m(\u001b[0m\u001b[0;34m'highz.png'\u001b[0m\u001b[0;34m)\u001b[0m\u001b[0;34m\u001b[0m\u001b[0;34m\u001b[0m\u001b[0m\n",
      "\u001b[0;31mNameError\u001b[0m: name 'parameters' is not defined"
     ]
    }
   ],
   "source": [
    "fig, axes = triangle_plot.plot_triangle_base(parameters,fiducial,cov , one_sigma_only=True,color_1d='red',ellipse_kwargs1={'ls': '-', 'edgecolor': 'red'})\n",
    "plt.savefig('highz.png')\n"
   ]
  },
  {
   "cell_type": "code",
   "execution_count": null,
   "metadata": {},
   "outputs": [],
   "source": [
    "#does cleaning on clkk improve the constraints?"
   ]
  },
  {
   "cell_type": "code",
   "execution_count": 39,
   "metadata": {},
   "outputs": [
    {
     "ename": "KeyError",
     "evalue": "'lsst_bias0'",
     "output_type": "error",
     "traceback": [
      "\u001b[0;31m---------------------------------------------------------------------------\u001b[0m",
      "\u001b[0;31mKeyError\u001b[0m                                  Traceback (most recent call last)",
      "\u001b[0;32m<ipython-input-39-0e7044135f89>\u001b[0m in \u001b[0;36m<module>\u001b[0;34m\u001b[0m\n\u001b[1;32m     25\u001b[0m \u001b[0;34m\u001b[0m\u001b[0m\n\u001b[1;32m     26\u001b[0m \u001b[0mresults\u001b[0m \u001b[0;34m=\u001b[0m \u001b[0mcamb\u001b[0m\u001b[0;34m.\u001b[0m\u001b[0mget_results\u001b[0m\u001b[0;34m(\u001b[0m\u001b[0mpars\u001b[0m\u001b[0;34m)\u001b[0m\u001b[0;34m\u001b[0m\u001b[0;34m\u001b[0m\u001b[0m\n\u001b[0;32m---> 27\u001b[0;31m \u001b[0mdefault\u001b[0m\u001b[0;34m=\u001b[0m\u001b[0mcosmology\u001b[0m\u001b[0;34m.\u001b[0m\u001b[0mcosmology\u001b[0m\u001b[0;34m(\u001b[0m\u001b[0mnz\u001b[0m\u001b[0;34m,\u001b[0m\u001b[0mkmax\u001b[0m\u001b[0;34m,\u001b[0m\u001b[0mzmin\u001b[0m\u001b[0;34m,\u001b[0m\u001b[0mells\u001b[0m\u001b[0;34m,\u001b[0m\u001b[0mdefaultCosmology\u001b[0m\u001b[0;34m,\u001b[0m\u001b[0mpars\u001b[0m\u001b[0;34m,\u001b[0m\u001b[0mresults\u001b[0m\u001b[0;34m)\u001b[0m\u001b[0;34m\u001b[0m\u001b[0;34m\u001b[0m\u001b[0m\n\u001b[0m\u001b[1;32m     28\u001b[0m \u001b[0mfiducial_cls\u001b[0m\u001b[0;34m=\u001b[0m\u001b[0mdefault\u001b[0m\u001b[0;34m.\u001b[0m\u001b[0mget_lsst_lensing\u001b[0m\u001b[0;34m(\u001b[0m\u001b[0mlenszmin\u001b[0m\u001b[0;34m=\u001b[0m\u001b[0;36m0.3\u001b[0m\u001b[0;34m)\u001b[0m\u001b[0;34m\u001b[0m\u001b[0;34m\u001b[0m\u001b[0m\n\u001b[1;32m     29\u001b[0m \u001b[0mpars\u001b[0m \u001b[0;34m=\u001b[0m \u001b[0;34m[\u001b[0m\u001b[0;34m'H0'\u001b[0m\u001b[0;34m,\u001b[0m\u001b[0;34m'ombh2'\u001b[0m\u001b[0;34m,\u001b[0m\u001b[0;34m'omch2'\u001b[0m\u001b[0;34m,\u001b[0m\u001b[0;34m'ns'\u001b[0m\u001b[0;34m,\u001b[0m\u001b[0;34m'As'\u001b[0m\u001b[0;34m,\u001b[0m\u001b[0;34m'tau'\u001b[0m\u001b[0;34m,\u001b[0m\u001b[0;34m'mnu'\u001b[0m\u001b[0;34m]\u001b[0m\u001b[0;31m#, 's'\u001b[0m\u001b[0;34m\u001b[0m\u001b[0;34m\u001b[0m\u001b[0m\n",
      "\u001b[0;32m/global/u1/j/jia_qu/cosmo_cleaner/cosmo_cleaner/cosmology.py\u001b[0m in \u001b[0;36m__init__\u001b[0;34m(self, nz, kmax, zmin, ells, cosmology, pars, cambres)\u001b[0m\n\u001b[1;32m     65\u001b[0m \u001b[0;34m\u001b[0m\u001b[0m\n\u001b[1;32m     66\u001b[0m         \u001b[0mself\u001b[0m\u001b[0;34m.\u001b[0m\u001b[0mLSST_bins\u001b[0m\u001b[0;34m=\u001b[0m\u001b[0mnp\u001b[0m\u001b[0;34m.\u001b[0m\u001b[0marray\u001b[0m\u001b[0;34m(\u001b[0m\u001b[0;34m[\u001b[0m\u001b[0;36m0\u001b[0m\u001b[0;34m,\u001b[0m \u001b[0;36m0.2\u001b[0m\u001b[0;34m,\u001b[0m \u001b[0;36m0.4\u001b[0m\u001b[0;34m,\u001b[0m \u001b[0;36m0.6\u001b[0m\u001b[0;34m,\u001b[0m \u001b[0;36m0.8\u001b[0m\u001b[0;34m,\u001b[0m \u001b[0;36m1\u001b[0m\u001b[0;34m,\u001b[0m \u001b[0;36m1.2\u001b[0m\u001b[0;34m,\u001b[0m \u001b[0;36m1.4\u001b[0m\u001b[0;34m,\u001b[0m \u001b[0;36m1.6\u001b[0m\u001b[0;34m,\u001b[0m \u001b[0;36m1.8\u001b[0m\u001b[0;34m,\u001b[0m \u001b[0;36m2\u001b[0m\u001b[0;34m,\u001b[0m \u001b[0;36m2.3\u001b[0m\u001b[0;34m,\u001b[0m \u001b[0;36m2.6\u001b[0m\u001b[0;34m,\u001b[0m \u001b[0;36m3\u001b[0m\u001b[0;34m,\u001b[0m \u001b[0;36m3.5\u001b[0m\u001b[0;34m,\u001b[0m \u001b[0;36m4\u001b[0m\u001b[0;34m,\u001b[0m \u001b[0;36m7\u001b[0m\u001b[0;34m]\u001b[0m\u001b[0;34m)\u001b[0m\u001b[0;34m\u001b[0m\u001b[0;34m\u001b[0m\u001b[0m\n\u001b[0;32m---> 67\u001b[0;31m         \u001b[0mself\u001b[0m\u001b[0;34m.\u001b[0m\u001b[0mlsst_bias\u001b[0m\u001b[0;34m=\u001b[0m\u001b[0mnp\u001b[0m\u001b[0;34m.\u001b[0m\u001b[0marray\u001b[0m\u001b[0;34m(\u001b[0m\u001b[0;34m[\u001b[0m\u001b[0mcosmology\u001b[0m\u001b[0;34m[\u001b[0m\u001b[0;34mf'lsst_bias{i}'\u001b[0m\u001b[0;34m]\u001b[0m \u001b[0;32mfor\u001b[0m \u001b[0mi\u001b[0m \u001b[0;32min\u001b[0m \u001b[0mrange\u001b[0m\u001b[0;34m(\u001b[0m\u001b[0mlen\u001b[0m\u001b[0;34m(\u001b[0m\u001b[0mself\u001b[0m\u001b[0;34m.\u001b[0m\u001b[0mLSST_bins\u001b[0m\u001b[0;34m)\u001b[0m\u001b[0;34m-\u001b[0m\u001b[0;36m1\u001b[0m\u001b[0;34m)\u001b[0m\u001b[0;34m]\u001b[0m\u001b[0;34m)\u001b[0m\u001b[0;34m\u001b[0m\u001b[0;34m\u001b[0m\u001b[0m\n\u001b[0m\u001b[1;32m     68\u001b[0m         \u001b[0mstart\u001b[0m\u001b[0;34m=\u001b[0m\u001b[0mself\u001b[0m\u001b[0;34m.\u001b[0m\u001b[0mLSST_bins\u001b[0m\u001b[0;34m[\u001b[0m\u001b[0;34m:\u001b[0m\u001b[0;34m-\u001b[0m\u001b[0;36m1\u001b[0m\u001b[0;34m]\u001b[0m\u001b[0;34m\u001b[0m\u001b[0;34m\u001b[0m\u001b[0m\n\u001b[1;32m     69\u001b[0m         \u001b[0mend\u001b[0m\u001b[0;34m=\u001b[0m \u001b[0mself\u001b[0m\u001b[0;34m.\u001b[0m\u001b[0mLSST_bins\u001b[0m\u001b[0;34m[\u001b[0m\u001b[0;36m1\u001b[0m\u001b[0;34m:\u001b[0m\u001b[0;34m]\u001b[0m\u001b[0;34m\u001b[0m\u001b[0;34m\u001b[0m\u001b[0m\n",
      "\u001b[0;32m/global/u1/j/jia_qu/cosmo_cleaner/cosmo_cleaner/cosmology.py\u001b[0m in \u001b[0;36m<listcomp>\u001b[0;34m(.0)\u001b[0m\n\u001b[1;32m     65\u001b[0m \u001b[0;34m\u001b[0m\u001b[0m\n\u001b[1;32m     66\u001b[0m         \u001b[0mself\u001b[0m\u001b[0;34m.\u001b[0m\u001b[0mLSST_bins\u001b[0m\u001b[0;34m=\u001b[0m\u001b[0mnp\u001b[0m\u001b[0;34m.\u001b[0m\u001b[0marray\u001b[0m\u001b[0;34m(\u001b[0m\u001b[0;34m[\u001b[0m\u001b[0;36m0\u001b[0m\u001b[0;34m,\u001b[0m \u001b[0;36m0.2\u001b[0m\u001b[0;34m,\u001b[0m \u001b[0;36m0.4\u001b[0m\u001b[0;34m,\u001b[0m \u001b[0;36m0.6\u001b[0m\u001b[0;34m,\u001b[0m \u001b[0;36m0.8\u001b[0m\u001b[0;34m,\u001b[0m \u001b[0;36m1\u001b[0m\u001b[0;34m,\u001b[0m \u001b[0;36m1.2\u001b[0m\u001b[0;34m,\u001b[0m \u001b[0;36m1.4\u001b[0m\u001b[0;34m,\u001b[0m \u001b[0;36m1.6\u001b[0m\u001b[0;34m,\u001b[0m \u001b[0;36m1.8\u001b[0m\u001b[0;34m,\u001b[0m \u001b[0;36m2\u001b[0m\u001b[0;34m,\u001b[0m \u001b[0;36m2.3\u001b[0m\u001b[0;34m,\u001b[0m \u001b[0;36m2.6\u001b[0m\u001b[0;34m,\u001b[0m \u001b[0;36m3\u001b[0m\u001b[0;34m,\u001b[0m \u001b[0;36m3.5\u001b[0m\u001b[0;34m,\u001b[0m \u001b[0;36m4\u001b[0m\u001b[0;34m,\u001b[0m \u001b[0;36m7\u001b[0m\u001b[0;34m]\u001b[0m\u001b[0;34m)\u001b[0m\u001b[0;34m\u001b[0m\u001b[0;34m\u001b[0m\u001b[0m\n\u001b[0;32m---> 67\u001b[0;31m         \u001b[0mself\u001b[0m\u001b[0;34m.\u001b[0m\u001b[0mlsst_bias\u001b[0m\u001b[0;34m=\u001b[0m\u001b[0mnp\u001b[0m\u001b[0;34m.\u001b[0m\u001b[0marray\u001b[0m\u001b[0;34m(\u001b[0m\u001b[0;34m[\u001b[0m\u001b[0mcosmology\u001b[0m\u001b[0;34m[\u001b[0m\u001b[0;34mf'lsst_bias{i}'\u001b[0m\u001b[0;34m]\u001b[0m \u001b[0;32mfor\u001b[0m \u001b[0mi\u001b[0m \u001b[0;32min\u001b[0m \u001b[0mrange\u001b[0m\u001b[0;34m(\u001b[0m\u001b[0mlen\u001b[0m\u001b[0;34m(\u001b[0m\u001b[0mself\u001b[0m\u001b[0;34m.\u001b[0m\u001b[0mLSST_bins\u001b[0m\u001b[0;34m)\u001b[0m\u001b[0;34m-\u001b[0m\u001b[0;36m1\u001b[0m\u001b[0;34m)\u001b[0m\u001b[0;34m]\u001b[0m\u001b[0;34m)\u001b[0m\u001b[0;34m\u001b[0m\u001b[0;34m\u001b[0m\u001b[0m\n\u001b[0m\u001b[1;32m     68\u001b[0m         \u001b[0mstart\u001b[0m\u001b[0;34m=\u001b[0m\u001b[0mself\u001b[0m\u001b[0;34m.\u001b[0m\u001b[0mLSST_bins\u001b[0m\u001b[0;34m[\u001b[0m\u001b[0;34m:\u001b[0m\u001b[0;34m-\u001b[0m\u001b[0;36m1\u001b[0m\u001b[0;34m]\u001b[0m\u001b[0;34m\u001b[0m\u001b[0;34m\u001b[0m\u001b[0m\n\u001b[1;32m     69\u001b[0m         \u001b[0mend\u001b[0m\u001b[0;34m=\u001b[0m \u001b[0mself\u001b[0m\u001b[0;34m.\u001b[0m\u001b[0mLSST_bins\u001b[0m\u001b[0;34m[\u001b[0m\u001b[0;36m1\u001b[0m\u001b[0;34m:\u001b[0m\u001b[0;34m]\u001b[0m\u001b[0;34m\u001b[0m\u001b[0;34m\u001b[0m\u001b[0m\n",
      "\u001b[0;31mKeyError\u001b[0m: 'lsst_bias0'"
     ]
    }
   ],
   "source": [
    "defaultCosmology = {'omch2': 0.1198\n",
    "                    ,'ombh2': 0.02225\n",
    "                    ,'H0': 67.3\n",
    "                    ,'ns': 0.9645\n",
    "                    ,'As': 2.2e-9\n",
    "                    ,'mnu': 0.06\n",
    "                    ,'w0': -1.0\n",
    "                    ,'tau':0.06\n",
    "                    ,'nnu':3.046\n",
    "                    ,'wa': 0.,'bias':1,'A_l':1,'A_e':1}\n",
    "\n",
    "\n",
    "nz = 1000\n",
    "kmax = 19\n",
    "zmin = 0.\n",
    "ells=np.arange(2000)\n",
    "\n",
    "pars = camb.CAMBparams()\n",
    "pars.set_dark_energy(w=defaultCosmology['w0'],wa = defaultCosmology['wa'], dark_energy_model = 'ppf')\n",
    "pars.set_cosmology(H0=defaultCosmology['H0'], cosmomc_theta = None,ombh2=defaultCosmology['ombh2'], \n",
    "               omch2=defaultCosmology['omch2'], mnu=defaultCosmology['mnu'], tau = defaultCosmology['tau'],\n",
    "               nnu = defaultCosmology['nnu'], num_massive_neutrinos = 3)\n",
    "#pars.NonLinear = model.NonLinear_both\n",
    "pars.InitPower.set_params(ns=defaultCosmology['ns'],As=defaultCosmology['As'])\n",
    "\n",
    "results = camb.get_results(pars)\n",
    "default=cosmology.cosmology(nz,kmax,zmin,ells,defaultCosmology,pars,results)\n",
    "fiducial_cls=default.get_lsst_lensing(lenszmin=0.3)\n",
    "pars = ['H0','ombh2','omch2','ns','As','tau','mnu']#, 's'\n",
    "#pars = ['mnu']\n",
    "Npars = len(pars)\n",
    "cut=400\n",
    "ells=np.arange(cut)\n",
    "der_spectra_alpha = np.ones((cut, len(fiducial_cls[0]), Npars))\n",
    "\n",
    "#take the derivatives of spectra over the parameters\n",
    "derivativesclean=[]\n",
    "for i in range(len(pars)):\n",
    "    print(pars[i])\n",
    "    derivativesclean.append(cosmology.LSST_derivative_parameter(defaultCosmology,pars[i],lenszmin=0.3))"
   ]
  },
  {
   "cell_type": "code",
   "execution_count": 30,
   "metadata": {
    "collapsed": true,
    "jupyter": {
     "outputs_hidden": true
    }
   },
   "outputs": [
    {
     "name": "stderr",
     "output_type": "stream",
     "text": [
      "/global/u1/j/jia_qu/cosmo_cleaner/cosmo_cleaner/cosmology.py:838: RuntimeWarning: divide by zero encountered in true_divide\n",
      "  return 1/result\n",
      "/global/u1/j/jia_qu/cosmo_cleaner/cosmo_cleaner/cosmology.py:880: RuntimeWarning: invalid value encountered in multiply\n",
      "  return self.get_modes()*(self.get_Cl(X,W)*self.get_Cl(Y,Z)+self.get_Cl(X,Z)*self.get_Cl(Y,W))\n"
     ]
    },
    {
     "name": "stdout",
     "output_type": "stream",
     "text": [
      "[[[ 0.00000000e+00  0.00000000e+00  0.00000000e+00 ...  0.00000000e+00\n",
      "    0.00000000e+00  0.00000000e+00]\n",
      "  [ 0.00000000e+00  0.00000000e+00  0.00000000e+00 ...  0.00000000e+00\n",
      "    0.00000000e+00  0.00000000e+00]\n",
      "  [ 0.00000000e+00  0.00000000e+00  0.00000000e+00 ...  0.00000000e+00\n",
      "    0.00000000e+00  0.00000000e+00]\n",
      "  ...\n",
      "  [ 0.00000000e+00  0.00000000e+00  0.00000000e+00 ...  0.00000000e+00\n",
      "    0.00000000e+00  0.00000000e+00]\n",
      "  [ 0.00000000e+00  0.00000000e+00  0.00000000e+00 ...  0.00000000e+00\n",
      "    0.00000000e+00  0.00000000e+00]\n",
      "  [ 0.00000000e+00  0.00000000e+00  0.00000000e+00 ...  0.00000000e+00\n",
      "    0.00000000e+00  0.00000000e+00]]\n",
      "\n",
      " [[ 5.90234488e-03 -1.10671563e+01 -2.55553859e+00 ...  7.97051556e+07\n",
      "    3.25739900e-04 -1.44338584e-03]\n",
      "  [-1.10671563e+01  1.45467041e+05  2.03095767e+04 ... -1.31063583e+11\n",
      "   -1.58147966e+00 -1.09841386e+01]\n",
      "  [-2.55553859e+00  2.03095767e+04  5.42025161e+03 ... -2.93260006e+10\n",
      "   -1.45290543e-01  1.00475336e+00]\n",
      "  ...\n",
      "  [ 7.97051556e+07 -1.31063583e+11 -2.93260006e+10 ...  1.31602791e+18\n",
      "    5.75528531e+06  3.17553238e+07]\n",
      "  [ 3.25739900e-04 -1.58147966e+00 -1.45290543e-01 ...  5.75528531e+06\n",
      "    6.57275284e-05  1.04447136e-03]\n",
      "  [-1.44338584e-03 -1.09841386e+01  1.00475336e+00 ...  3.17553238e+07\n",
      "    1.04447136e-03  3.23831442e-02]]\n",
      "\n",
      " [[ 1.09541053e-02 -2.08336191e+01 -4.84684561e+00 ...  1.52918813e+08\n",
      "    2.01059412e-04 -5.14436946e-03]\n",
      "  [-2.08336191e+01  2.92176531e+05  4.07417023e+04 ... -2.62479079e+11\n",
      "   -1.76918457e+00 -2.25148339e+01]\n",
      "  [-4.84684561e+00  4.07417023e+04  1.08091506e+04 ... -5.77355025e+10\n",
      "   -1.10219379e-01  2.19017081e+00]\n",
      "  ...\n",
      "  [ 1.52918813e+08 -2.62479079e+11 -5.77355025e+10 ...  2.63660018e+18\n",
      "    4.32319275e+06  6.04671356e+07]\n",
      "  [ 2.01059412e-04 -1.76918457e+00 -1.10219379e-01 ...  4.32319275e+06\n",
      "    4.56500832e-05  1.44118003e-03]\n",
      "  [-5.14436946e-03 -2.25148339e+01  2.19017081e+00 ...  6.04671356e+07\n",
      "    1.44118003e-03  8.45700443e-02]]\n",
      "\n",
      " ...\n",
      "\n",
      " [[ 7.59996251e-01 -2.50503072e+03 -2.65790494e+01 ...  1.20546530e+10\n",
      "   -1.30478915e-02 -6.84414318e+00]\n",
      "  [-2.50503072e+03  7.16730457e+07  6.96552388e+06 ... -8.38551882e+13\n",
      "    2.40862328e+01  3.37008137e+04]\n",
      "  [-2.65790494e+01  6.96552388e+06  2.49399068e+06 ...  1.55082796e+13\n",
      "   -1.82599196e+01 -6.93674575e+03]\n",
      "  ...\n",
      "  [ 1.20546530e+10 -8.38551882e+13  1.55082796e+13 ...  8.41752000e+20\n",
      "   -9.44935169e+08 -4.10618258e+11]\n",
      "  [-1.30478915e-02  2.40862328e+01 -1.82599196e+01 ... -9.44935169e+08\n",
      "    3.70726917e-03  6.43961788e-01]\n",
      "  [-6.84414318e+00  3.37008137e+04 -6.93674575e+03 ... -4.10618258e+11\n",
      "    6.43961788e-01  2.39995539e+02]]\n",
      "\n",
      " [[ 7.62848959e-01 -2.51198415e+03 -2.65214756e+01 ...  1.20869548e+10\n",
      "   -1.30354257e-02 -6.85877042e+00]\n",
      "  [-2.51198415e+03  7.18461102e+07  6.97748203e+06 ... -8.40758588e+13\n",
      "    2.41941210e+01  3.37872469e+04]\n",
      "  [-2.65214756e+01  6.97748203e+06  2.49906727e+06 ...  1.55507771e+13\n",
      "   -1.82803861e+01 -6.95524786e+03]\n",
      "  ...\n",
      "  [ 1.20869548e+10 -8.40758588e+13  1.55507771e+13 ...  8.43783625e+20\n",
      "   -9.47009819e+08 -4.11627250e+11]\n",
      "  [-1.30354257e-02  2.41941210e+01 -1.82803861e+01 ... -9.47009819e+08\n",
      "    3.72605556e-03  6.45419569e-01]\n",
      "  [-6.85877042e+00  3.37872469e+04 -6.95524786e+03 ... -4.11627250e+11\n",
      "    6.45419569e-01  2.40595593e+02]]\n",
      "\n",
      " [[ 7.65711542e-01 -2.51931498e+03 -2.65131478e+01 ...  1.21192040e+10\n",
      "   -1.30250075e-02 -6.87336252e+00]\n",
      "  [-2.51931498e+03  7.20207211e+07  6.98957029e+06 ... -8.42976273e+13\n",
      "    2.41673055e+01  3.38731650e+04]\n",
      "  [-2.65131478e+01  6.98957029e+06  2.50414394e+06 ...  1.55931752e+13\n",
      "   -1.83086178e+01 -6.97386641e+03]\n",
      "  ...\n",
      "  [ 1.21192040e+10 -8.42976273e+13  1.55931752e+13 ...  8.45816233e+20\n",
      "   -9.49213704e+08 -4.12637034e+11]\n",
      "  [-1.30250075e-02  2.41673055e+01 -1.83086178e+01 ... -9.49213704e+08\n",
      "    3.74546867e-03  6.46930314e-01]\n",
      "  [-6.87336252e+00  3.38731650e+04 -6.97386641e+03 ... -4.12637034e+11\n",
      "    6.46930314e-01  2.41195858e+02]]]\n"
     ]
    },
    {
     "name": "stderr",
     "output_type": "stream",
     "text": [
      "/global/u1/j/jia_qu/cosmo_cleaner/cosmo_cleaner/cosmology.py:948: RuntimeWarning: divide by zero encountered in power\n",
      "  self.error_per_mode_non_marginalized = np.nan_to_num(np.diagonal(fisher_per_mode,axis1 = 1, axis2 = 2)**-0.5)\n"
     ]
    }
   ],
   "source": [
    "a=cosmology.LSSTxlensing(fiducial_cls[0],fiducial_cls[0],derivativesclean,pars,s4noise,0.4,l_min=0,l_max=500,nbar=40)\n",
    "fisherclean=a.get_fisher()\n",
    "covclean=np.linalg.inv(fisherclean)"
   ]
  },
  {
   "cell_type": "code",
   "execution_count": 33,
   "metadata": {},
   "outputs": [
    {
     "data": {
      "text/plain": [
       "array([9.11476259e-02, 1.21243540e-05, 6.31907469e-05, 3.13869444e-03,\n",
       "       6.90592391e-12, 1.92659967e+00, 1.85829796e-02])"
      ]
     },
     "execution_count": 33,
     "metadata": {},
     "output_type": "execute_result"
    }
   ],
   "source": [
    "np.diag(covclean)**0.5 "
   ]
  },
  {
   "cell_type": "code",
   "execution_count": 34,
   "metadata": {},
   "outputs": [
    {
     "name": "stdout",
     "output_type": "stream",
     "text": [
      "generating new axis\n",
      "['$\\\\mathrm{H0}$', '$\\\\mathrm{ombh2}$', '$\\\\mathrm{omch2}$', '$\\\\mathrm{ns}$', '$\\\\mathrm{As}$', '$\\\\mathrm{tau}$', '$\\\\mathrm{mnu}$']\n",
      "['$\\\\mathrm{H0}$', '$\\\\mathrm{ombh2}$', '$\\\\mathrm{omch2}$', '$\\\\mathrm{ns}$', '$\\\\mathrm{As}$', '$\\\\mathrm{tau}$', '$\\\\mathrm{mnu}$']\n"
     ]
    },
    {
     "data": {
      "text/plain": [
       "<matplotlib.legend.Legend at 0x2aab01dfd950>"
      ]
     },
     "execution_count": 34,
     "metadata": {},
     "output_type": "execute_result"
    },
    {
     "data": {
      "image/png": "[encoded data removed]",
      "text/plain": [
       "<Figure size 576x576 with 49 Axes>"
      ]
     },
     "metadata": {
      "needs_background": "light"
     },
     "output_type": "display_data"
    }
   ],
   "source": [
    "fig, axes = triangle_plot.plot_triangle_base(parameters,fiducial,cov , one_sigma_only=True,color_1d='red',ellipse_kwargs1={'ls': '-', 'edgecolor': 'red'})\n",
    "# now plot a slightly cleaned instrument\n",
    "triangle_plot.plot_triangle_base(parameters,fiducial, covclean, one_sigma_only=True,\n",
    "                                  f=fig, ax=axes,\n",
    "                                  ellipse_kwargs1={'ls': '-', 'edgecolor': 'blue'},\n",
    "                                  ellipse_kwargs2={'ls': '-', 'edgecolor': 'blue'},\n",
    "                                  color_1d='blue'\n",
    "                                 );\n",
    "\n",
    "l1, = axes[0, -1].plot([],[],'-',color=\"red\", label='No cleaning')\n",
    "l2, = axes[0, -1].plot([],[],'-',color=\"blue\", label='Cleaning')\n",
    "axes[0, -1].legend()"
   ]
  },
  {
   "cell_type": "code",
   "execution_count": null,
   "metadata": {},
   "outputs": [],
   "source": []
  }
 ],
 "metadata": {
  "kernelspec": {
   "display_name": "MyEnv",
   "language": "python",
   "name": "myenv"
  },
  "language_info": {
   "codemirror_mode": {
    "name": "ipython",
    "version": 3
   },
   "file_extension": ".py",
   "mimetype": "text/x-python",
   "name": "python",
   "nbconvert_exporter": "python",
   "pygments_lexer": "ipython3",
   "version": "3.7.9"
  }
 },
 "nbformat": 4,
 "nbformat_minor": 4
}
