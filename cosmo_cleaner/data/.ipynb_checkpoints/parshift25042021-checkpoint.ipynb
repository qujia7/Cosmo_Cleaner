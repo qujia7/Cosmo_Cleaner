{
 "cells": [
  {
   "cell_type": "code",
   "execution_count": 26,
   "metadata": {},
   "outputs": [],
   "source": [
    "import numpy as np\n",
    "from orphics import maps, cosmology,io,stats\n",
    "import matplotlib.pyplot as plt\n",
    "\n",
    "from scipy import optimize\n",
    "import cosmo_cleaner\n",
    "from cosmo_cleaner import fisher as fisher,plot\n",
    "import camb\n",
    "from cosmo_cleaner import cosmology\n",
    "from cosmo_cleaner import triangle_plot\n",
    "import camb\n",
    "from camb import model, initialpower\n",
    "\n",
    "def get_der(spectra,pars,delta,lensingzmin,cleaned=False):\n",
    "    \"\"\"derivative function used for fisher\"\"\"\n",
    "    der_spectra_alpha = np.ones((len(list(spectra.items())[0][1]), len(spectra), len(pars)))\n",
    "    for i in range(len(pars)):\n",
    "        print(f\"Taking field derivatives wrt {pars[i]}\")\n",
    "        der=cosmology.derivative_lensing(ells,1,0.5,defaultCosmology,pars[i],delta[i],nz=1000,kmax=10,zmin=0,zlensing=lensingzmin,idealised=False)\n",
    "\n",
    "        der_spectra_alpha[:, 0, i] = der[:cut] #kk\n",
    "    return der_spectra_alpha"
   ]
  },
  {
   "cell_type": "code",
   "execution_count": 31,
   "metadata": {},
   "outputs": [],
   "source": [
    "defaultCosmology = {'omch2': 0.1198\n",
    "                    ,'ombh2': 0.02225\n",
    "                    ,'H0': 67.3\n",
    "                    ,'ns': 0.9645\n",
    "                    ,'As': 2.2e-9\n",
    "                    ,'mnu': 0.06\n",
    "                    ,'w0': -1.0\n",
    "                    ,'tau':0.06\n",
    "                    ,'nnu':3.046\n",
    "                    ,'wa': 0.2,'bias':1,'A_e':1.,'A_l':1.,'omega_k':0}\n",
    "for i in range(17):\n",
    "    defaultCosmology[f'lsst_bias{i}']=1\n",
    "\n",
    "nz = 1000\n",
    "kmax = 10\n",
    "zmin = 0.\n",
    "ells=np.arange(3000)\n",
    "parsde.set_for_lmax(3000)\n",
    "\n",
    "parsde = camb.CAMBparams()\n",
    "parsde.set_dark_energy(w=defaultCosmology['w0'],wa = defaultCosmology['wa'], dark_energy_model = 'ppf')\n",
    "parsde.set_cosmology(H0=defaultCosmology['H0'], cosmomc_theta = None,ombh2=defaultCosmology['ombh2'], \n",
    "               omch2=defaultCosmology['omch2'], mnu=defaultCosmology['mnu'], tau = defaultCosmology['tau'],\n",
    "               nnu = defaultCosmology['nnu'], num_massive_neutrinos = 3)\n",
    "#pars.NonLinear = model.NonLinear_both\n",
    "parsde.InitPower.set_params(ns=defaultCosmology['ns'],As=defaultCosmology['As'])\n",
    "resultsde = camb.get_results(parsde)\n",
    "defaultde=cosmology.cosmology(nz,kmax,zmin,ells,defaultCosmology,parsde,resultsde)"
   ]
  },
  {
   "cell_type": "code",
   "execution_count": 32,
   "metadata": {},
   "outputs": [],
   "source": [
    "pars = camb.CAMBparams()\n",
    "pars.set_cosmology(H0=defaultCosmology['H0'], cosmomc_theta = None,ombh2=defaultCosmology['ombh2'], \n",
    "               omch2=defaultCosmology['omch2'], mnu=defaultCosmology['mnu'], tau = defaultCosmology['tau'],\n",
    "               nnu = defaultCosmology['nnu'], num_massive_neutrinos = 3)\n",
    "#pars.NonLinear = model.NonLinear_both\n",
    "pars.set_for_lmax(3000)\n",
    "pars.InitPower.set_params(ns=defaultCosmology['ns'],As=defaultCosmology['As'])\n",
    "results = camb.get_results(pars)\n",
    "default=cosmology.cosmology(nz,kmax,zmin,ells,defaultCosmology,pars,results)"
   ]
  },
  {
   "cell_type": "code",
   "execution_count": 33,
   "metadata": {},
   "outputs": [],
   "source": [
    "parameters = np.array( ['ombh2', 'omch2', 'H0',  'As', 'ns', 'tau','mnu'])\n",
    "centers = np.array([0.02225,  0.1198,  67.3,  2.2e-9, 0.9645, 0.06, 0.06])\n",
    "left_steps = np.array([0.0008, 0.003,   2,   0.1e-9, 0.010, 0.02, 0.0])\n",
    "right_steps = np.array([0.0008, 0.003,   2,   0.1e-9, 0.010, 0.02, 0.02])\n",
    "delta=[]\n",
    "for i in range(len(left_steps)):\n",
    "    delta.append((left_steps[i],right_steps[i]))"
   ]
  },
  {
   "cell_type": "code",
   "execution_count": 34,
   "metadata": {},
   "outputs": [],
   "source": [
    "zmin=[0,0.01,0.02,0.1,0.15,0.2,0.3,0.35,0.4,0.45,0.5]\n",
    "clkks=[]\n",
    "clkkdes=[]\n",
    "for i in range(len(zmin)):\n",
    "    clkkdes.append(defaultde.get_clkk(zmin=zmin[i]))\n",
    "    clkks.append(default.get_clkk(zmin=zmin[i]))"
   ]
  },
  {
   "cell_type": "code",
   "execution_count": null,
   "metadata": {},
   "outputs": [],
   "source": [
    "plt.semilogy(clkkdes[3])"
   ]
  },
  {
   "cell_type": "code",
   "execution_count": 35,
   "metadata": {},
   "outputs": [],
   "source": [
    "def parshift_lensing(fisher,derivative,fiducial,newcl,noise=None,f_sky=0.4):\n",
    "    if noise is None:\n",
    "        noise=np.zeros(len(fiducial))\n",
    "    ells=np.arange(cut)\n",
    "    deltaclkk=abs(newcl-fiducial)    \n",
    "    fac=deltaclkk/(fiducial+noise)**2\n",
    "    var=np.nansum(fac*f_sky*(2*ells+1)*0.5*derivative,axis=1)\n",
    "    bias=np.dot(np.linalg.inv(fisher),var)\n",
    "    return bias"
   ]
  },
  {
   "cell_type": "code",
   "execution_count": 49,
   "metadata": {},
   "outputs": [
    {
     "data": {
      "text/plain": [
       "(600, 7)"
      ]
     },
     "execution_count": 49,
     "metadata": {},
     "output_type": "execute_result"
    }
   ],
   "source": [
    "clkk_der[:,0].shape"
   ]
  },
  {
   "cell_type": "code",
   "execution_count": 64,
   "metadata": {},
   "outputs": [
    {
     "data": {
      "text/plain": [
       "[<matplotlib.lines.Line2D at 0x2aaaf8f13450>]"
      ]
     },
     "execution_count": 64,
     "metadata": {},
     "output_type": "execute_result"
    },
    {
     "data": {
      "image/png": "[encoded data removed]",
      "text/plain": [
       "<Figure size 432x288 with 1 Axes>"
      ]
     },
     "metadata": {
      "needs_background": "light"
     },
     "output_type": "display_data"
    }
   ],
   "source": [
    "plt.plot(zmin,dev)"
   ]
  },
  {
   "cell_type": "code",
   "execution_count": 67,
   "metadata": {},
   "outputs": [
    {
     "data": {
      "text/plain": [
       "array([], dtype=float64)"
      ]
     },
     "execution_count": 67,
     "metadata": {},
     "output_type": "execute_result"
    }
   ],
   "source": [
    "clkk_der"
   ]
  },
  {
   "cell_type": "code",
   "execution_count": 66,
   "metadata": {},
   "outputs": [
    {
     "name": "stderr",
     "output_type": "stream",
     "text": [
      "/global/homes/j/jia_qu/.conda/envs/myenv/lib/python3.7/site-packages/ipykernel_launcher.py:1: UserWarning: loadtxt: Empty input file: \"/global/homes/j/jia_qu/cosmo_cleaner/cosmo_cleaner/data/derivative0.txt\"\n",
      "  \"\"\"Entry point for launching an IPython kernel.\n"
     ]
    }
   ],
   "source": [
    "clkk_der=np.loadtxt(f\"/global/homes/j/jia_qu/cosmo_cleaner/cosmo_cleaner/data/derivative{1}.txt\")\n",
    "\n",
    "\n"
   ]
  },
  {
   "cell_type": "code",
   "execution_count": 65,
   "metadata": {},
   "outputs": [
    {
     "name": "stderr",
     "output_type": "stream",
     "text": [
      "/global/homes/j/jia_qu/.conda/envs/myenv/lib/python3.7/site-packages/ipykernel_launcher.py:5: UserWarning: loadtxt: Empty input file: \"/global/homes/j/jia_qu/cosmo_cleaner/cosmo_cleaner/data/derivative0.txt\"\n",
      "  \"\"\"\n"
     ]
    },
    {
     "ename": "IndexError",
     "evalue": "too many indices for array: array is 1-dimensional, but 2 were indexed",
     "output_type": "error",
     "traceback": [
      "\u001b[0;31m---------------------------------------------------------------------------\u001b[0m",
      "\u001b[0;31mIndexError\u001b[0m                                Traceback (most recent call last)",
      "\u001b[0;32m<ipython-input-65-ccabf899466a>\u001b[0m in \u001b[0;36m<module>\u001b[0;34m\u001b[0m\n\u001b[1;32m      3\u001b[0m \u001b[0;32mfor\u001b[0m \u001b[0mi\u001b[0m \u001b[0;32min\u001b[0m \u001b[0mrange\u001b[0m\u001b[0;34m(\u001b[0m\u001b[0mlen\u001b[0m\u001b[0;34m(\u001b[0m\u001b[0mclkks\u001b[0m\u001b[0;34m)\u001b[0m\u001b[0;34m)\u001b[0m\u001b[0;34m:\u001b[0m\u001b[0;34m\u001b[0m\u001b[0;34m\u001b[0m\u001b[0m\n\u001b[1;32m      4\u001b[0m     \u001b[0mfishermatrix\u001b[0m\u001b[0;34m=\u001b[0m\u001b[0mnp\u001b[0m\u001b[0;34m.\u001b[0m\u001b[0mloadtxt\u001b[0m\u001b[0;34m(\u001b[0m\u001b[0;34mf\"/global/homes/j/jia_qu/cosmo_cleaner/cosmo_cleaner/data/parshiftsfisher{zmin[i]}.txt\"\u001b[0m\u001b[0;34m)\u001b[0m\u001b[0;34m\u001b[0m\u001b[0;34m\u001b[0m\u001b[0m\n\u001b[0;32m----> 5\u001b[0;31m     \u001b[0mclkk_der\u001b[0m\u001b[0;34m=\u001b[0m\u001b[0mnp\u001b[0m\u001b[0;34m.\u001b[0m\u001b[0mloadtxt\u001b[0m\u001b[0;34m(\u001b[0m\u001b[0;34mf\"/global/homes/j/jia_qu/cosmo_cleaner/cosmo_cleaner/data/derivative{zmin[i]}.txt\"\u001b[0m\u001b[0;34m)\u001b[0m\u001b[0;34m[\u001b[0m\u001b[0;34m:\u001b[0m\u001b[0;34m,\u001b[0m\u001b[0;36m0\u001b[0m\u001b[0;34m]\u001b[0m\u001b[0;34m\u001b[0m\u001b[0;34m\u001b[0m\u001b[0m\n\u001b[0m\u001b[1;32m      6\u001b[0m     \u001b[0ma\u001b[0m\u001b[0;34m=\u001b[0m\u001b[0mnp\u001b[0m\u001b[0;34m.\u001b[0m\u001b[0mnansum\u001b[0m\u001b[0;34m(\u001b[0m\u001b[0mabs\u001b[0m\u001b[0;34m(\u001b[0m\u001b[0mclkks\u001b[0m\u001b[0;34m[\u001b[0m\u001b[0mi\u001b[0m\u001b[0;34m]\u001b[0m\u001b[0;34m-\u001b[0m\u001b[0mclkkdes\u001b[0m\u001b[0;34m[\u001b[0m\u001b[0mi\u001b[0m\u001b[0;34m]\u001b[0m\u001b[0;34m)\u001b[0m\u001b[0;34m)\u001b[0m\u001b[0;34m\u001b[0m\u001b[0;34m\u001b[0m\u001b[0m\n\u001b[1;32m      7\u001b[0m     \u001b[0mdev\u001b[0m\u001b[0;34m.\u001b[0m\u001b[0mappend\u001b[0m\u001b[0;34m(\u001b[0m\u001b[0ma\u001b[0m\u001b[0;34m)\u001b[0m\u001b[0;34m\u001b[0m\u001b[0;34m\u001b[0m\u001b[0m\n",
      "\u001b[0;31mIndexError\u001b[0m: too many indices for array: array is 1-dimensional, but 2 were indexed"
     ]
    }
   ],
   "source": [
    "\n",
    "dev=[]\n",
    "biases=[]\n",
    "for i in range(len(clkks)):\n",
    "    fishermatrix=np.loadtxt(f\"/global/homes/j/jia_qu/cosmo_cleaner/cosmo_cleaner/data/parshiftsfisher{zmin[i]}.txt\")\n",
    "    clkk_der=np.loadtxt(f\"/global/homes/j/jia_qu/cosmo_cleaner/cosmo_cleaner/data/derivative{zmin[i]}.txt\")[:,0]\n",
    "    a=np.nansum(abs(clkks[i]-clkkdes[i]))\n",
    "    dev.append(a)\n",
    "    fiducial=clkks[i][:cut]\n",
    "    newcl=clkkdes[i][:cut]\n",
    "    bias=parshift_lensing(fishermatrix,clkk_der.transpose(),fiducial,newcl,noise=None,f_sky=0.4)\n",
    "    biases.append(bias)\n",
    "    \n",
    "    \n",
    "dev=np.array(dev)\n",
    "biases=np.array(biases)\n",
    "    \n",
    "    "
   ]
  },
  {
   "cell_type": "code",
   "execution_count": 61,
   "metadata": {},
   "outputs": [],
   "source": [
    "mnubias=[]\n",
    "for i in range(len(biases)):\n",
    "       mnubias.append(biases[i][-1]*1000)"
   ]
  },
  {
   "cell_type": "code",
   "execution_count": 62,
   "metadata": {},
   "outputs": [
    {
     "data": {
      "text/plain": [
       "[<matplotlib.lines.Line2D at 0x2aaaf8e33a90>]"
      ]
     },
     "execution_count": 62,
     "metadata": {},
     "output_type": "execute_result"
    },
    {
     "data": {
      "image/png": "[encoded data removed]",
      "text/plain": [
       "<Figure size 432x288 with 1 Axes>"
      ]
     },
     "metadata": {
      "needs_background": "light"
     },
     "output_type": "display_data"
    }
   ],
   "source": [
    "plt.plot(zmin,mnubias)"
   ]
  },
  {
   "cell_type": "code",
   "execution_count": null,
   "metadata": {},
   "outputs": [],
   "source": []
  }
 ],
 "metadata": {
  "kernelspec": {
   "display_name": "MyEnv",
   "language": "python",
   "name": "myenv"
  },
  "language_info": {
   "codemirror_mode": {
    "name": "ipython",
    "version": 3
   },
   "file_extension": ".py",
   "mimetype": "text/x-python",
   "name": "python",
   "nbconvert_exporter": "python",
   "pygments_lexer": "ipython3",
   "version": "3.7.9"
  }
 },
 "nbformat": 4,
 "nbformat_minor": 4
}
