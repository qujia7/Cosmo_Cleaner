{
 "cells": [
  {
   "cell_type": "code",
   "execution_count": 17,
   "metadata": {},
   "outputs": [],
   "source": [
    "import numpy as np\n",
    "from orphics import maps, cosmology,io,stats\n",
    "import matplotlib.pyplot as plt\n",
    "\n",
    "from scipy import optimize\n",
    "import cosmo_cleaner\n",
    "from cosmo_cleaner import fisher as fisher,plot\n",
    "import camb\n",
    "from cosmo_cleaner import cosmology\n",
    "from cosmo_cleaner import triangle_plot\n",
    "import camb\n",
    "from camb import model, initialpower\n",
    "\n",
    "def get_der(spectra,pars,delta,lensingzmin,cleaned=False):\n",
    "    \"\"\"derivative function used for fisher\"\"\"\n",
    "    der_spectra_alpha = np.ones((len(list(spectra.items())[0][1]), len(spectra), len(pars)))\n",
    "    for i in range(len(pars)):\n",
    "        print(f\"Taking field derivatives wrt {pars[i]}\")\n",
    "        der=cosmology.derivative_lensing(ells,1,0.5,defaultCosmology,pars[i],delta[i],nz=1000,kmax=10,zmin=0,zlensing=lensingzmin,idealised=False)\n",
    "\n",
    "        der_spectra_alpha[:, 0, i] = der[:cut] #kk\n",
    "    return der_spectra_alpha"
   ]
  },
  {
   "cell_type": "code",
   "execution_count": 5,
   "metadata": {},
   "outputs": [
    {
     "ename": "NameError",
     "evalue": "name 'parsde' is not defined",
     "output_type": "error",
     "traceback": [
      "\u001b[0;31m---------------------------------------------------------------------------\u001b[0m",
      "\u001b[0;31mNameError\u001b[0m                                 Traceback (most recent call last)",
      "\u001b[0;32m<ipython-input-5-107024423146>\u001b[0m in \u001b[0;36m<module>\u001b[0;34m\u001b[0m\n\u001b[1;32m     16\u001b[0m \u001b[0mzmin\u001b[0m \u001b[0;34m=\u001b[0m \u001b[0;36m0.\u001b[0m\u001b[0;34m\u001b[0m\u001b[0;34m\u001b[0m\u001b[0m\n\u001b[1;32m     17\u001b[0m \u001b[0mells\u001b[0m\u001b[0;34m=\u001b[0m\u001b[0mnp\u001b[0m\u001b[0;34m.\u001b[0m\u001b[0marange\u001b[0m\u001b[0;34m(\u001b[0m\u001b[0;36m2000\u001b[0m\u001b[0;34m)\u001b[0m\u001b[0;34m\u001b[0m\u001b[0;34m\u001b[0m\u001b[0m\n\u001b[0;32m---> 18\u001b[0;31m \u001b[0mparsde\u001b[0m\u001b[0;34m.\u001b[0m\u001b[0mset_for_lmax\u001b[0m\u001b[0;34m(\u001b[0m\u001b[0;36m3000\u001b[0m\u001b[0;34m)\u001b[0m\u001b[0;34m\u001b[0m\u001b[0;34m\u001b[0m\u001b[0m\n\u001b[0m\u001b[1;32m     19\u001b[0m \u001b[0;34m\u001b[0m\u001b[0m\n\u001b[1;32m     20\u001b[0m \u001b[0mparsde\u001b[0m \u001b[0;34m=\u001b[0m \u001b[0mcamb\u001b[0m\u001b[0;34m.\u001b[0m\u001b[0mCAMBparams\u001b[0m\u001b[0;34m(\u001b[0m\u001b[0;34m)\u001b[0m\u001b[0;34m\u001b[0m\u001b[0;34m\u001b[0m\u001b[0m\n",
      "\u001b[0;31mNameError\u001b[0m: name 'parsde' is not defined"
     ]
    }
   ],
   "source": [
    "defaultCosmology = {'omch2': 0.1198\n",
    "                    ,'ombh2': 0.02225\n",
    "                    ,'H0': 67.3\n",
    "                    ,'ns': 0.9645\n",
    "                    ,'As': 2.2e-9\n",
    "                    ,'mnu': 0.06\n",
    "                    ,'w0': -1\n",
    "                    ,'tau':0.06\n",
    "                    ,'nnu':3.046\n",
    "                    ,'wa': 0.2,'bias':1,'A_e':1.,'A_l':1.,'omega_k':0}\n",
    "for i in range(17):\n",
    "    defaultCosmology[f'lsst_bias{i}']=1\n",
    "\n",
    "nz = 1000\n",
    "kmax = 10\n",
    "zmin = 0.\n",
    "ells=np.arange(2000)\n",
    "parsde.set_for_lmax(3000)\n",
    "\n",
    "parsde = camb.CAMBparams()\n",
    "parsde.set_dark_energy(w=defaultCosmology['w0'],wa = defaultCosmology['wa'], dark_energy_model = 'ppf')\n",
    "parsde.set_cosmology(H0=defaultCosmology['H0'], cosmomc_theta = None,ombh2=defaultCosmology['ombh2'], \n",
    "               omch2=defaultCosmology['omch2'], mnu=defaultCosmology['mnu'], tau = defaultCosmology['tau'],\n",
    "               nnu = defaultCosmology['nnu'], num_massive_neutrinos = 3)\n",
    "#pars.NonLinear = model.NonLinear_both\n",
    "parsde.InitPower.set_params(ns=defaultCosmology['ns'],As=defaultCosmology['As'])\n",
    "resultsde = camb.get_results(parsde)\n",
    "defaultde=cosmology.cosmology(nz,kmax,zmin,ells,defaultCosmology,parsde,resultsde)"
   ]
  },
  {
   "cell_type": "code",
   "execution_count": 6,
   "metadata": {},
   "outputs": [],
   "source": [
    "pars = camb.CAMBparams()\n",
    "pars.set_cosmology(H0=defaultCosmology['H0'], cosmomc_theta = None,ombh2=defaultCosmology['ombh2'], \n",
    "               omch2=defaultCosmology['omch2'], mnu=defaultCosmology['mnu'], tau = defaultCosmology['tau'],\n",
    "               nnu = defaultCosmology['nnu'], num_massive_neutrinos = 3)\n",
    "#pars.NonLinear = model.NonLinear_both\n",
    "pars.set_for_lmax(3000)\n",
    "pars.InitPower.set_params(ns=defaultCosmology['ns'],As=defaultCosmology['As'])\n",
    "results = camb.get_results(pars)\n",
    "default=cosmology.cosmology(nz,kmax,zmin,ells,defaultCosmology,pars,results)"
   ]
  },
  {
   "cell_type": "code",
   "execution_count": 100,
   "metadata": {},
   "outputs": [],
   "source": [
    "parameters = np.array( ['ombh2', 'omch2', 'H0',  'As', 'ns', 'tau','mnu'])\n",
    "centers = np.array([0.02225,  0.1198,  67.3,  2.2e-9, 0.9645, 0.06, 0.06])\n",
    "left_steps = np.array([0.0008, 0.003,   2,   0.1e-9, 0.010, 0.02, 0.0])\n",
    "right_steps = np.array([0.0008, 0.003,   2,   0.1e-9, 0.010, 0.02, 0.02])\n",
    "delta=[]\n",
    "for i in range(len(left_steps)):\n",
    "    delta.append((left_steps[i],right_steps[i]))"
   ]
  },
  {
   "cell_type": "code",
   "execution_count": 166,
   "metadata": {},
   "outputs": [],
   "source": [
    "zmin=[0,0.01,0.02,0.1,0.15,0.2,0.3,0.35,0.4,0.45,0.5]\n",
    "clkks=[]\n",
    "clkkdes=[]\n",
    "for i in range(len(zmin)):\n",
    "    clkkdes.append(defaultde.get_clkk(zmin=zmin[i]))\n",
    "    clkks.append(default.get_clkk(zmin=zmin[i]))"
   ]
  },
  {
   "cell_type": "code",
   "execution_count": 49,
   "metadata": {},
   "outputs": [
    {
     "data": {
      "text/plain": [
       "(600, 7)"
      ]
     },
     "execution_count": 49,
     "metadata": {},
     "output_type": "execute_result"
    }
   ],
   "source": [
    "clkk_der[:,0].shape"
   ]
  },
  {
   "cell_type": "code",
   "execution_count": 67,
   "metadata": {},
   "outputs": [
    {
     "data": {
      "text/plain": [
       "array([], dtype=float64)"
      ]
     },
     "execution_count": 67,
     "metadata": {},
     "output_type": "execute_result"
    }
   ],
   "source": [
    "clkk_der"
   ]
  },
  {
   "cell_type": "code",
   "execution_count": 103,
   "metadata": {},
   "outputs": [],
   "source": [
    "clkk_der=np.load(f\"/global/homes/j/jia_qu/cosmo_cleaner/cosmo_cleaner/data/derivative{zmin[i]}.npy\")\n",
    "\n",
    "\n"
   ]
  },
  {
   "cell_type": "code",
   "execution_count": 104,
   "metadata": {},
   "outputs": [
    {
     "data": {
      "text/plain": [
       "array([[[ 1.64723226e-08,  2.45844648e-10,  4.63267630e-11, ...,\n",
       "         -2.70672094e-08, -1.68424236e-13,  3.86905700e-11]],\n",
       "\n",
       "       [[ 1.00471533e-08, -2.82605624e-08,  9.71667113e-11, ...,\n",
       "         -8.90721936e-08, -5.94598646e-12,  1.88643445e-10]],\n",
       "\n",
       "       [[ 1.86417364e-08, -4.21929063e-08,  1.51745675e-10, ...,\n",
       "         -1.28745091e-07, -2.23860452e-11,  4.79515713e-10]],\n",
       "\n",
       "       ...,\n",
       "\n",
       "       [[-2.97205141e-07,  3.32800550e-07, -1.84030795e-10, ...,\n",
       "          1.38535492e-08, -2.94876222e-11, -9.58508803e-09]],\n",
       "\n",
       "       [[-2.96701120e-07,  3.32139004e-07, -1.83624871e-10, ...,\n",
       "          1.38546245e-08, -2.94211238e-11, -9.56306194e-09]],\n",
       "\n",
       "       [[-2.96198398e-07,  3.31479553e-07, -1.83220115e-10, ...,\n",
       "          1.38555979e-08, -2.93548664e-11, -9.54111573e-09]]])"
      ]
     },
     "execution_count": 104,
     "metadata": {},
     "output_type": "execute_result"
    }
   ],
   "source": [
    "clkk_der"
   ]
  },
  {
   "cell_type": "code",
   "execution_count": 105,
   "metadata": {},
   "outputs": [],
   "source": [
    "fishermatrix=np.load(f\"/global/homes/j/jia_qu/cosmo_cleaner/cosmo_cleaner/data/parshiftsfisher{zmin[0]}.npy\")\n",
    "cov=np.linalg.inv(fishermatrix)\n",
    "error=np.sqrt(np.diag(cov))"
   ]
  },
  {
   "cell_type": "code",
   "execution_count": 106,
   "metadata": {},
   "outputs": [
    {
     "data": {
      "text/plain": [
       "677.3866700194365"
      ]
     },
     "execution_count": 106,
     "metadata": {},
     "output_type": "execute_result"
    }
   ],
   "source": [
    "error[-1]*1000"
   ]
  },
  {
   "cell_type": "code",
   "execution_count": 120,
   "metadata": {},
   "outputs": [
    {
     "data": {
      "text/plain": [
       "array([[nan, nan, nan, nan, nan, nan, nan],\n",
       "       [nan, nan, nan, nan, nan, nan, nan],\n",
       "       [nan, nan, nan, nan, nan, nan, nan],\n",
       "       [nan, nan, nan, nan, nan, nan, nan],\n",
       "       [nan, nan, nan, nan, nan, nan, nan],\n",
       "       [nan, nan, nan, nan, nan, nan, nan],\n",
       "       [nan, nan, nan, nan, nan, nan, nan]])"
      ]
     },
     "execution_count": 120,
     "metadata": {},
     "output_type": "execute_result"
    }
   ],
   "source": [
    "fisher"
   ]
  },
  {
   "cell_type": "code",
   "execution_count": 119,
   "metadata": {},
   "outputs": [
    {
     "data": {
      "text/plain": [
       "nan"
      ]
     },
     "execution_count": 119,
     "metadata": {},
     "output_type": "execute_result"
    }
   ],
   "source": [
    "errore[-1]*1000"
   ]
  },
  {
   "cell_type": "code",
   "execution_count": 7,
   "metadata": {},
   "outputs": [],
   "source": [
    "def parshift_lensing(fisher,derivative,fiducial,newcl,noise=None,f_sky=0.4):\n",
    "    if noise is None:\n",
    "        noise=np.zeros(len(fiducial))\n",
    "    ells=np.arange(cut)\n",
    "    deltaclkk=(newcl-fiducial)    \n",
    "    fac=deltaclkk/(fiducial+noise)**2\n",
    "    var=np.nansum(fac*f_sky*(2*ells+1)*0.5*derivative,axis=1)\n",
    "    bias=np.dot(np.linalg.inv(fisher),var)\n",
    "    return bias"
   ]
  },
  {
   "cell_type": "code",
   "execution_count": 56,
   "metadata": {},
   "outputs": [],
   "source": [
    "defaultCosmology = {'omch2': 0.1198\n",
    "                    ,'ombh2': 0.02225\n",
    "                    ,'H0': 67.3\n",
    "                    ,'ns': 0.9645\n",
    "                    ,'As': 2.2e-9\n",
    "                    ,'mnu': 0.06\n",
    "                    ,'w0': -0.9\n",
    "                    ,'tau':0.06\n",
    "                    ,'nnu':3.046\n",
    "                    ,'wa': 0.1,'bias':1,'A_e':1.,'A_l':1.,'omega_k':0}\n",
    "for i in range(17):\n",
    "    defaultCosmology[f'lsst_bias{i}']=1\n",
    "nz = 1000\n",
    "kmax = 10\n",
    "zmin = 0.\n",
    "ells=np.arange(2000)\n",
    "parsde = camb.CAMBparams()\n",
    "parsde.set_cosmology(H0=defaultCosmology['H0'], cosmomc_theta = None,ombh2=defaultCosmology['ombh2'], \n",
    "               omch2=defaultCosmology['omch2'], mnu=defaultCosmology['mnu'], tau = defaultCosmology['tau'],\n",
    "               nnu = defaultCosmology['nnu'], num_massive_neutrinos = 3)\n",
    "#pars.NonLinear = model.NonLinear_both\n",
    "parsde.set_dark_energy(w=defaultCosmology['w0'],wa = defaultCosmology['wa'], dark_energy_model = 'ppf')\n",
    "\n",
    "parsde.set_for_lmax(3000)\n",
    "parsde.InitPower.set_params(ns=defaultCosmology['ns'],As=defaultCosmology['As'])\n",
    "resultsde = camb.get_results(parsde)\n",
    "defaultde=cosmology.cosmology(nz,kmax,zmin,ells,defaultCosmology,parsde,results)"
   ]
  },
  {
   "cell_type": "code",
   "execution_count": 57,
   "metadata": {},
   "outputs": [],
   "source": [
    "defaultCosmology = {'omch2': 0.1198\n",
    "                    ,'ombh2': 0.02225\n",
    "                    ,'H0': 67.3\n",
    "                    ,'ns': 0.9645\n",
    "                    ,'As': 2.2e-9\n",
    "                    ,'mnu': 0.06\n",
    "                    ,'w0': -1\n",
    "                    ,'tau':0.06\n",
    "                    ,'nnu':3.046\n",
    "                    ,'wa': 0.,'bias':1,'A_e':1.,'A_l':1.,'omega_k':0}\n",
    "for i in range(17):\n",
    "    defaultCosmology[f'lsst_bias{i}']=1\n",
    "nz = 1000\n",
    "kmax = 10\n",
    "zmin = 0.\n",
    "ells=np.arange(2000)\n",
    "pars = camb.CAMBparams()\n",
    "pars.set_cosmology(H0=defaultCosmology['H0'], cosmomc_theta = None,ombh2=defaultCosmology['ombh2'], \n",
    "               omch2=defaultCosmology['omch2'], mnu=defaultCosmology['mnu'], tau = defaultCosmology['tau'],\n",
    "               nnu = defaultCosmology['nnu'], num_massive_neutrinos = 3)\n",
    "#pars.NonLinear = model.NonLinear_both\n",
    "pars.set_dark_energy(w=defaultCosmology['w0'],wa = defaultCosmology['wa'], dark_energy_model = 'ppf')\n",
    "\n",
    "pars.set_for_lmax(3000)\n",
    "pars.InitPower.set_params(ns=defaultCosmology['ns'],As=defaultCosmology['As'])\n",
    "results = camb.get_results(pars)\n",
    "default=cosmology.cosmology(nz,kmax,zmin,ells,defaultCosmology,pars,results)"
   ]
  },
  {
   "cell_type": "code",
   "execution_count": 73,
   "metadata": {},
   "outputs": [],
   "source": [
    "zmin=[0,0.2,0.3,0.35,0.4,0.45,0.5]\n",
    "clkks=[]\n",
    "clkkdes=[]\n",
    "for i in range(len(zmin)):\n",
    "    clkkdes.append(defaultde.get_clkk(zmin=zmin[i]))\n",
    "    clkks.append(default.get_clkk(zmin=zmin[i]))"
   ]
  },
  {
   "cell_type": "code",
   "execution_count": 74,
   "metadata": {},
   "outputs": [],
   "source": [
    "cut=600\n",
    "dev=[]\n",
    "biases=[]\n",
    "for i in range(len(clkks)):\n",
    "    fishermatrix=np.load(f\"/global/homes/j/jia_qu/cosmo_cleaner/cosmo_cleaner/data/parshiftsfisher{zmin[i]}.npy\")\n",
    "    clkk_der=np.load(f\"/global/homes/j/jia_qu/cosmo_cleaner/cosmo_cleaner/data/derivative{zmin[i]}.npy\")[:,0]\n",
    "    a=np.nansum(abs(clkks[0]-clkkdes[i]))\n",
    "    dev.append(a)\n",
    "    fiducial=clkks[i][:cut]\n",
    "    newcl=clkkdes[i][:cut]\n",
    "    bias=parshift_lensing(fishermatrix,clkk_der.transpose(),fiducial,newcl,noise=None,f_sky=1)\n",
    "    biases.append(bias)\n",
    "    \n",
    "    \n",
    "dev=np.array(dev)\n",
    "biases=np.array(biases)\n",
    "    \n",
    "    "
   ]
  },
  {
   "cell_type": "code",
   "execution_count": 75,
   "metadata": {},
   "outputs": [],
   "source": [
    "mnubias=[]\n",
    "for i in range(len(biases)):\n",
    "       mnubias.append(biases[i][-1]*1000)"
   ]
  },
  {
   "cell_type": "code",
   "execution_count": 76,
   "metadata": {},
   "outputs": [
    {
     "data": {
      "text/plain": [
       "Text(0.5, 0, 'zmin')"
      ]
     },
     "execution_count": 76,
     "metadata": {},
     "output_type": "execute_result"
    },
    {
     "data": {
      "image/png": "[encoded data removed]",
      "text/plain": [
       "<Figure size 432x288 with 1 Axes>"
      ]
     },
     "metadata": {
      "needs_background": "light"
     },
     "output_type": "display_data"
    }
   ],
   "source": [
    "k=10\n",
    "plt.plot(zmin[:k],mnubias[:k],'o-')\n",
    "plt.ylabel('mnu bias in meV')\n",
    "plt.xlabel('zmin')\n"
   ]
  },
  {
   "cell_type": "code",
   "execution_count": 230,
   "metadata": {},
   "outputs": [
    {
     "data": {
      "text/plain": [
       "[<matplotlib.lines.Line2D at 0x2aaaf1f47e10>]"
      ]
     },
     "execution_count": 230,
     "metadata": {},
     "output_type": "execute_result"
    },
    {
     "data": {
      "image/png": "[encoded data removed]",
      "text/plain": [
       "<Figure size 432x288 with 1 Axes>"
      ]
     },
     "metadata": {
      "needs_background": "light"
     },
     "output_type": "display_data"
    }
   ],
   "source": [
    "\n",
    "plt.plot(zmin,dev,'o-')"
   ]
  },
  {
   "cell_type": "code",
   "execution_count": null,
   "metadata": {},
   "outputs": [],
   "source": []
  }
 ],
 "metadata": {
  "kernelspec": {
   "display_name": "MyEnv",
   "language": "python",
   "name": "myenv"
  },
  "language_info": {
   "codemirror_mode": {
    "name": "ipython",
    "version": 3
   },
   "file_extension": ".py",
   "mimetype": "text/x-python",
   "name": "python",
   "nbconvert_exporter": "python",
   "pygments_lexer": "ipython3",
   "version": "3.7.9"
  }
 },
 "nbformat": 4,
 "nbformat_minor": 4
}
